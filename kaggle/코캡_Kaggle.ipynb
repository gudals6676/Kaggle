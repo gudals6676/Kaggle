{
 "cells": [
  {
   "cell_type": "code",
   "execution_count": 82,
   "metadata": {},
   "outputs": [],
   "source": [
    "import numpy as np\n",
    "import matplotlib.pyplot as plt\n",
    "import pandas as pd\n",
    "# 머신러닝을 지원하는 sklearn 라이브러리 가져오기\n",
    "from sklearn.neighbors import KNeighborsClassifier\n",
    "# 평가 지표들을 활용할 수 있는 metrics 모듈을 불러오기\n",
    "from sklearn import metrics\n",
    "import tqdm\n",
    "from sklearn.metrics import accuracy_score\n",
    "from sklearn.model_selection import train_test_split#학습 평가 데이터 분리\n",
    "import seaborn as sns #matplot과 유사하게 시각화 라이브러리이지만 좀 더 깔끔함\n",
    "from sklearn.datasets import load_iris #붓꽃\n",
    "from sklearn.tree import DecisionTreeClassifier #트리\n",
    "# !pip install seaborn\n",
    "# 손쉽게 레이블 인코딩을 하기 위해 레이블인코더를 임포트\n",
    "from sklearn.preprocessing import LabelEncoder\n",
    "#!pip install graphviz #시각화 외부라이브러리\n",
    "from sklearn.tree import export_graphviz\n",
    "from sklearn.preprocessing import StandardScaler #StandardScaler\n",
    "from sklearn.preprocessing import MinMaxScaler  #MinMaxScaler\n",
    "from sklearn.datasets import load_breast_cancer\n",
    "#!pip install jupyter_contrib_nbextensions && jupyter contrib nbextension install 목차보기\n",
    "from sklearn.model_selection import cross_val_score#교차검증 적용을 위해 임포트\n",
    "from sklearn.ensemble import RandomForestClassifier\n",
    "from sklearn.ensemble import VotingClassifier #앙상블 모델"
   ]
  },
  {
   "cell_type": "code",
   "execution_count": 83,
   "metadata": {},
   "outputs": [],
   "source": [
    "train = pd.read_csv(\"data/train1.csv\", index_col=\"ID\") \n",
    "test = pd.read_csv(\"data/test1.csv\", index_col=\"ID\")"
   ]
  },
  {
   "cell_type": "code",
   "execution_count": 84,
   "metadata": {},
   "outputs": [
    {
     "data": {
      "text/html": [
       "<div>\n",
       "<style scoped>\n",
       "    .dataframe tbody tr th:only-of-type {\n",
       "        vertical-align: middle;\n",
       "    }\n",
       "\n",
       "    .dataframe tbody tr th {\n",
       "        vertical-align: top;\n",
       "    }\n",
       "\n",
       "    .dataframe thead th {\n",
       "        text-align: right;\n",
       "    }\n",
       "</style>\n",
       "<table border=\"1\" class=\"dataframe\">\n",
       "  <thead>\n",
       "    <tr style=\"text-align: right;\">\n",
       "      <th></th>\n",
       "      <th>Warehouse_block</th>\n",
       "      <th>Mode_of_Shipment</th>\n",
       "      <th>Customer_care_calls</th>\n",
       "      <th>Customer_rating</th>\n",
       "      <th>Cost_of_the_Product</th>\n",
       "      <th>Prior_purchases</th>\n",
       "      <th>Product_importance</th>\n",
       "      <th>Gender</th>\n",
       "      <th>Discount_offered</th>\n",
       "      <th>Weight_in_gms</th>\n",
       "      <th>Reached.on.Time_Y.N</th>\n",
       "    </tr>\n",
       "    <tr>\n",
       "      <th>ID</th>\n",
       "      <th></th>\n",
       "      <th></th>\n",
       "      <th></th>\n",
       "      <th></th>\n",
       "      <th></th>\n",
       "      <th></th>\n",
       "      <th></th>\n",
       "      <th></th>\n",
       "      <th></th>\n",
       "      <th></th>\n",
       "      <th></th>\n",
       "    </tr>\n",
       "  </thead>\n",
       "  <tbody>\n",
       "    <tr>\n",
       "      <th>1</th>\n",
       "      <td>C</td>\n",
       "      <td>Ship</td>\n",
       "      <td>2.0</td>\n",
       "      <td>2</td>\n",
       "      <td>135</td>\n",
       "      <td>3.0</td>\n",
       "      <td>low</td>\n",
       "      <td>M</td>\n",
       "      <td>NaN</td>\n",
       "      <td>1339</td>\n",
       "      <td>1</td>\n",
       "    </tr>\n",
       "    <tr>\n",
       "      <th>2</th>\n",
       "      <td>F</td>\n",
       "      <td>Flight</td>\n",
       "      <td>5.0</td>\n",
       "      <td>3</td>\n",
       "      <td>225</td>\n",
       "      <td>5.0</td>\n",
       "      <td>low</td>\n",
       "      <td>F</td>\n",
       "      <td>6.0</td>\n",
       "      <td>1082</td>\n",
       "      <td>0</td>\n",
       "    </tr>\n",
       "    <tr>\n",
       "      <th>3</th>\n",
       "      <td>F</td>\n",
       "      <td>Ship</td>\n",
       "      <td>3.0</td>\n",
       "      <td>1</td>\n",
       "      <td>229</td>\n",
       "      <td>3.0</td>\n",
       "      <td>low</td>\n",
       "      <td>M</td>\n",
       "      <td>NaN</td>\n",
       "      <td>4971</td>\n",
       "      <td>1</td>\n",
       "    </tr>\n",
       "    <tr>\n",
       "      <th>4</th>\n",
       "      <td>F</td>\n",
       "      <td>Ship</td>\n",
       "      <td>3.0</td>\n",
       "      <td>2</td>\n",
       "      <td>228</td>\n",
       "      <td>NaN</td>\n",
       "      <td>medium</td>\n",
       "      <td>M</td>\n",
       "      <td>2.0</td>\n",
       "      <td>5640</td>\n",
       "      <td>0</td>\n",
       "    </tr>\n",
       "    <tr>\n",
       "      <th>5</th>\n",
       "      <td>D</td>\n",
       "      <td>Flight</td>\n",
       "      <td>NaN</td>\n",
       "      <td>1</td>\n",
       "      <td>195</td>\n",
       "      <td>6.0</td>\n",
       "      <td>high</td>\n",
       "      <td>F</td>\n",
       "      <td>NaN</td>\n",
       "      <td>4944</td>\n",
       "      <td>1</td>\n",
       "    </tr>\n",
       "    <tr>\n",
       "      <th>...</th>\n",
       "      <td>...</td>\n",
       "      <td>...</td>\n",
       "      <td>...</td>\n",
       "      <td>...</td>\n",
       "      <td>...</td>\n",
       "      <td>...</td>\n",
       "      <td>...</td>\n",
       "      <td>...</td>\n",
       "      <td>...</td>\n",
       "      <td>...</td>\n",
       "      <td>...</td>\n",
       "    </tr>\n",
       "    <tr>\n",
       "      <th>6995</th>\n",
       "      <td>D</td>\n",
       "      <td>Ship</td>\n",
       "      <td>4.0</td>\n",
       "      <td>2</td>\n",
       "      <td>232</td>\n",
       "      <td>5.0</td>\n",
       "      <td>medium</td>\n",
       "      <td>F</td>\n",
       "      <td>4.0</td>\n",
       "      <td>1783</td>\n",
       "      <td>0</td>\n",
       "    </tr>\n",
       "    <tr>\n",
       "      <th>6996</th>\n",
       "      <td>F</td>\n",
       "      <td>Ship</td>\n",
       "      <td>3.0</td>\n",
       "      <td>5</td>\n",
       "      <td>228</td>\n",
       "      <td>2.0</td>\n",
       "      <td>medium</td>\n",
       "      <td>F</td>\n",
       "      <td>NaN</td>\n",
       "      <td>5208</td>\n",
       "      <td>0</td>\n",
       "    </tr>\n",
       "    <tr>\n",
       "      <th>6997</th>\n",
       "      <td>D</td>\n",
       "      <td>Ship</td>\n",
       "      <td>NaN</td>\n",
       "      <td>1</td>\n",
       "      <td>300</td>\n",
       "      <td>5.0</td>\n",
       "      <td>low</td>\n",
       "      <td>F</td>\n",
       "      <td>10.0</td>\n",
       "      <td>1787</td>\n",
       "      <td>0</td>\n",
       "    </tr>\n",
       "    <tr>\n",
       "      <th>6998</th>\n",
       "      <td>A</td>\n",
       "      <td>Road</td>\n",
       "      <td>3.0</td>\n",
       "      <td>1</td>\n",
       "      <td>232</td>\n",
       "      <td>2.0</td>\n",
       "      <td>medium</td>\n",
       "      <td>M</td>\n",
       "      <td>NaN</td>\n",
       "      <td>4719</td>\n",
       "      <td>0</td>\n",
       "    </tr>\n",
       "    <tr>\n",
       "      <th>6999</th>\n",
       "      <td>A</td>\n",
       "      <td>Ship</td>\n",
       "      <td>3.0</td>\n",
       "      <td>3</td>\n",
       "      <td>262</td>\n",
       "      <td>7.0</td>\n",
       "      <td>high</td>\n",
       "      <td>F</td>\n",
       "      <td>NaN</td>\n",
       "      <td>5097</td>\n",
       "      <td>0</td>\n",
       "    </tr>\n",
       "  </tbody>\n",
       "</table>\n",
       "<p>6999 rows × 11 columns</p>\n",
       "</div>"
      ],
      "text/plain": [
       "     Warehouse_block  Mode_of_Shipment  Customer_care_calls  Customer_rating  \\\n",
       "ID                                                                             \n",
       "1                   C             Ship                  2.0                2   \n",
       "2                   F           Flight                  5.0                3   \n",
       "3                   F             Ship                  3.0                1   \n",
       "4                   F             Ship                  3.0                2   \n",
       "5                   D           Flight                  NaN                1   \n",
       "...               ...              ...                  ...              ...   \n",
       "6995                D             Ship                  4.0                2   \n",
       "6996                F             Ship                  3.0                5   \n",
       "6997                D             Ship                  NaN                1   \n",
       "6998                A             Road                  3.0                1   \n",
       "6999                A             Ship                  3.0                3   \n",
       "\n",
       "      Cost_of_the_Product  Prior_purchases Product_importance Gender  \\\n",
       "ID                                                                     \n",
       "1                     135              3.0                low      M   \n",
       "2                     225              5.0                low      F   \n",
       "3                     229              3.0                low      M   \n",
       "4                     228              NaN             medium      M   \n",
       "5                     195              6.0               high      F   \n",
       "...                   ...              ...                ...    ...   \n",
       "6995                  232              5.0             medium      F   \n",
       "6996                  228              2.0             medium      F   \n",
       "6997                  300              5.0                low      F   \n",
       "6998                  232              2.0             medium      M   \n",
       "6999                  262              7.0               high      F   \n",
       "\n",
       "      Discount_offered Weight_in_gms  Reached.on.Time_Y.N  \n",
       "ID                                                         \n",
       "1                  NaN          1339                    1  \n",
       "2                  6.0          1082                    0  \n",
       "3                  NaN          4971                    1  \n",
       "4                  2.0          5640                    0  \n",
       "5                  NaN          4944                    1  \n",
       "...                ...           ...                  ...  \n",
       "6995               4.0          1783                    0  \n",
       "6996               NaN          5208                    0  \n",
       "6997              10.0          1787                    0  \n",
       "6998               NaN          4719                    0  \n",
       "6999               NaN          5097                    0  \n",
       "\n",
       "[6999 rows x 11 columns]"
      ]
     },
     "execution_count": 84,
     "metadata": {},
     "output_type": "execute_result"
    }
   ],
   "source": [
    "train"
   ]
  },
  {
   "cell_type": "code",
   "execution_count": 85,
   "metadata": {},
   "outputs": [
    {
     "data": {
      "text/html": [
       "<div>\n",
       "<style scoped>\n",
       "    .dataframe tbody tr th:only-of-type {\n",
       "        vertical-align: middle;\n",
       "    }\n",
       "\n",
       "    .dataframe tbody tr th {\n",
       "        vertical-align: top;\n",
       "    }\n",
       "\n",
       "    .dataframe thead th {\n",
       "        text-align: right;\n",
       "    }\n",
       "</style>\n",
       "<table border=\"1\" class=\"dataframe\">\n",
       "  <thead>\n",
       "    <tr style=\"text-align: right;\">\n",
       "      <th></th>\n",
       "      <th>Warehouse_block</th>\n",
       "      <th>Mode_of_Shipment</th>\n",
       "      <th>Customer_care_calls</th>\n",
       "      <th>Customer_rating</th>\n",
       "      <th>Cost_of_the_Product</th>\n",
       "      <th>Prior_purchases</th>\n",
       "      <th>Product_importance</th>\n",
       "      <th>Gender</th>\n",
       "      <th>Discount_offered</th>\n",
       "      <th>Weight_in_gms</th>\n",
       "    </tr>\n",
       "    <tr>\n",
       "      <th>ID</th>\n",
       "      <th></th>\n",
       "      <th></th>\n",
       "      <th></th>\n",
       "      <th></th>\n",
       "      <th></th>\n",
       "      <th></th>\n",
       "      <th></th>\n",
       "      <th></th>\n",
       "      <th></th>\n",
       "      <th></th>\n",
       "    </tr>\n",
       "  </thead>\n",
       "  <tbody>\n",
       "    <tr>\n",
       "      <th>7000</th>\n",
       "      <td>F</td>\n",
       "      <td>Ship</td>\n",
       "      <td>3.0</td>\n",
       "      <td>1</td>\n",
       "      <td>274</td>\n",
       "      <td>NaN</td>\n",
       "      <td>high</td>\n",
       "      <td>M</td>\n",
       "      <td>NaN</td>\n",
       "      <td>4352</td>\n",
       "    </tr>\n",
       "    <tr>\n",
       "      <th>7001</th>\n",
       "      <td>F</td>\n",
       "      <td>Ship</td>\n",
       "      <td>3.0</td>\n",
       "      <td>4</td>\n",
       "      <td>136</td>\n",
       "      <td>2.0</td>\n",
       "      <td>medium</td>\n",
       "      <td>F</td>\n",
       "      <td>NaN</td>\n",
       "      <td>1056</td>\n",
       "    </tr>\n",
       "    <tr>\n",
       "      <th>7002</th>\n",
       "      <td>A</td>\n",
       "      <td>Flight</td>\n",
       "      <td>NaN</td>\n",
       "      <td>5</td>\n",
       "      <td>140</td>\n",
       "      <td>3.0</td>\n",
       "      <td>low</td>\n",
       "      <td>F</td>\n",
       "      <td>7.0</td>\n",
       "      <td>5383</td>\n",
       "    </tr>\n",
       "    <tr>\n",
       "      <th>7003</th>\n",
       "      <td>C</td>\n",
       "      <td>Ship</td>\n",
       "      <td>NaN</td>\n",
       "      <td>1</td>\n",
       "      <td>291</td>\n",
       "      <td>4.0</td>\n",
       "      <td>low</td>\n",
       "      <td>F</td>\n",
       "      <td>NaN</td>\n",
       "      <td>1880</td>\n",
       "    </tr>\n",
       "    <tr>\n",
       "      <th>7004</th>\n",
       "      <td>F</td>\n",
       "      <td>?</td>\n",
       "      <td>4.0</td>\n",
       "      <td>2</td>\n",
       "      <td>147</td>\n",
       "      <td>3.0</td>\n",
       "      <td>low</td>\n",
       "      <td>F</td>\n",
       "      <td>5.0</td>\n",
       "      <td>5174</td>\n",
       "    </tr>\n",
       "    <tr>\n",
       "      <th>...</th>\n",
       "      <td>...</td>\n",
       "      <td>...</td>\n",
       "      <td>...</td>\n",
       "      <td>...</td>\n",
       "      <td>...</td>\n",
       "      <td>...</td>\n",
       "      <td>...</td>\n",
       "      <td>...</td>\n",
       "      <td>...</td>\n",
       "      <td>...</td>\n",
       "    </tr>\n",
       "    <tr>\n",
       "      <th>10995</th>\n",
       "      <td>A</td>\n",
       "      <td>?</td>\n",
       "      <td>4.0</td>\n",
       "      <td>1</td>\n",
       "      <td>204</td>\n",
       "      <td>4.0</td>\n",
       "      <td>?</td>\n",
       "      <td>F</td>\n",
       "      <td>NaN</td>\n",
       "      <td>1667</td>\n",
       "    </tr>\n",
       "    <tr>\n",
       "      <th>10996</th>\n",
       "      <td>C</td>\n",
       "      <td>Ship</td>\n",
       "      <td>NaN</td>\n",
       "      <td>3</td>\n",
       "      <td>195</td>\n",
       "      <td>2.0</td>\n",
       "      <td>medium</td>\n",
       "      <td>M</td>\n",
       "      <td>NaN</td>\n",
       "      <td>3869</td>\n",
       "    </tr>\n",
       "    <tr>\n",
       "      <th>10997</th>\n",
       "      <td>B</td>\n",
       "      <td>Flight</td>\n",
       "      <td>NaN</td>\n",
       "      <td>3</td>\n",
       "      <td>206</td>\n",
       "      <td>2.0</td>\n",
       "      <td>medium</td>\n",
       "      <td>M</td>\n",
       "      <td>7.0</td>\n",
       "      <td>4531</td>\n",
       "    </tr>\n",
       "    <tr>\n",
       "      <th>10998</th>\n",
       "      <td>C</td>\n",
       "      <td>Ship</td>\n",
       "      <td>6.0</td>\n",
       "      <td>4</td>\n",
       "      <td>255</td>\n",
       "      <td>4.0</td>\n",
       "      <td>low</td>\n",
       "      <td>M</td>\n",
       "      <td>7.0</td>\n",
       "      <td>1869</td>\n",
       "    </tr>\n",
       "    <tr>\n",
       "      <th>10999</th>\n",
       "      <td>D</td>\n",
       "      <td>Ship</td>\n",
       "      <td>5.0</td>\n",
       "      <td>1</td>\n",
       "      <td>252</td>\n",
       "      <td>5.0</td>\n",
       "      <td>?</td>\n",
       "      <td>M</td>\n",
       "      <td>4.0</td>\n",
       "      <td>1308</td>\n",
       "    </tr>\n",
       "  </tbody>\n",
       "</table>\n",
       "<p>4000 rows × 10 columns</p>\n",
       "</div>"
      ],
      "text/plain": [
       "      Warehouse_block  Mode_of_Shipment  Customer_care_calls  Customer_rating  \\\n",
       "ID                                                                              \n",
       "7000                 F             Ship                  3.0                1   \n",
       "7001                 F             Ship                  3.0                4   \n",
       "7002                 A           Flight                  NaN                5   \n",
       "7003                 C             Ship                  NaN                1   \n",
       "7004                 F                ?                  4.0                2   \n",
       "...                ...              ...                  ...              ...   \n",
       "10995                A                ?                  4.0                1   \n",
       "10996                C             Ship                  NaN                3   \n",
       "10997                B           Flight                  NaN                3   \n",
       "10998                C             Ship                  6.0                4   \n",
       "10999                D             Ship                  5.0                1   \n",
       "\n",
       "       Cost_of_the_Product  Prior_purchases Product_importance Gender  \\\n",
       "ID                                                                      \n",
       "7000                   274              NaN               high      M   \n",
       "7001                   136              2.0             medium      F   \n",
       "7002                   140              3.0                low      F   \n",
       "7003                   291              4.0                low      F   \n",
       "7004                   147              3.0                low      F   \n",
       "...                    ...              ...                ...    ...   \n",
       "10995                  204              4.0                  ?      F   \n",
       "10996                  195              2.0             medium      M   \n",
       "10997                  206              2.0             medium      M   \n",
       "10998                  255              4.0                low      M   \n",
       "10999                  252              5.0                  ?      M   \n",
       "\n",
       "       Discount_offered Weight_in_gms  \n",
       "ID                                     \n",
       "7000                NaN          4352  \n",
       "7001                NaN          1056  \n",
       "7002                7.0          5383  \n",
       "7003                NaN          1880  \n",
       "7004                5.0          5174  \n",
       "...                 ...           ...  \n",
       "10995               NaN          1667  \n",
       "10996               NaN          3869  \n",
       "10997               7.0          4531  \n",
       "10998               7.0          1869  \n",
       "10999               4.0          1308  \n",
       "\n",
       "[4000 rows x 10 columns]"
      ]
     },
     "execution_count": 85,
     "metadata": {},
     "output_type": "execute_result"
    }
   ],
   "source": [
    "test"
   ]
  },
  {
   "cell_type": "code",
   "execution_count": 86,
   "metadata": {
    "scrolled": true
   },
   "outputs": [
    {
     "data": {
      "text/plain": [
       "Index(['Warehouse_block ', 'Mode_of_Shipment', 'Customer_care_calls',\n",
       "       'Customer_rating', 'Cost_of_the_Product', 'Prior_purchases',\n",
       "       'Product_importance', 'Gender', 'Discount_offered', 'Weight_in_gms',\n",
       "       'Reached.on.Time_Y.N'],\n",
       "      dtype='object')"
      ]
     },
     "execution_count": 86,
     "metadata": {},
     "output_type": "execute_result"
    }
   ],
   "source": [
    "train.keys()"
   ]
  },
  {
   "cell_type": "code",
   "execution_count": 87,
   "metadata": {
    "scrolled": true
   },
   "outputs": [
    {
     "data": {
      "text/plain": [
       "Index(['Warehouse_block ', 'Mode_of_Shipment', 'Customer_care_calls',\n",
       "       'Customer_rating', 'Cost_of_the_Product', 'Prior_purchases',\n",
       "       'Product_importance', 'Gender', 'Discount_offered', 'Weight_in_gms'],\n",
       "      dtype='object')"
      ]
     },
     "execution_count": 87,
     "metadata": {},
     "output_type": "execute_result"
    }
   ],
   "source": [
    "test.keys()"
   ]
  },
  {
   "cell_type": "code",
   "execution_count": 88,
   "metadata": {},
   "outputs": [
    {
     "name": "stdout",
     "output_type": "stream",
     "text": [
      "(6999, 11)\n",
      "(4000, 10)\n"
     ]
    }
   ],
   "source": [
    "print(train.shape)\n",
    "print(test.shape)"
   ]
  },
  {
   "cell_type": "code",
   "execution_count": 89,
   "metadata": {},
   "outputs": [
    {
     "name": "stdout",
     "output_type": "stream",
     "text": [
      "<class 'pandas.core.frame.DataFrame'>\n",
      "Int64Index: 6999 entries, 1 to 6999\n",
      "Data columns (total 11 columns):\n",
      " #   Column               Non-Null Count  Dtype  \n",
      "---  ------               --------------  -----  \n",
      " 0   Warehouse_block      6999 non-null   object \n",
      " 1   Mode_of_Shipment     6999 non-null   object \n",
      " 2   Customer_care_calls  5423 non-null   float64\n",
      " 3   Customer_rating      6999 non-null   int64  \n",
      " 4   Cost_of_the_Product  6999 non-null   int64  \n",
      " 5   Prior_purchases      6049 non-null   float64\n",
      " 6   Product_importance   6999 non-null   object \n",
      " 7   Gender               6999 non-null   object \n",
      " 8   Discount_offered     3468 non-null   float64\n",
      " 9   Weight_in_gms        6999 non-null   object \n",
      " 10  Reached.on.Time_Y.N  6999 non-null   int64  \n",
      "dtypes: float64(3), int64(3), object(5)\n",
      "memory usage: 656.2+ KB\n",
      "<class 'pandas.core.frame.DataFrame'>\n",
      "Int64Index: 4000 entries, 7000 to 10999\n",
      "Data columns (total 10 columns):\n",
      " #   Column               Non-Null Count  Dtype  \n",
      "---  ------               --------------  -----  \n",
      " 0   Warehouse_block      4000 non-null   object \n",
      " 1   Mode_of_Shipment     4000 non-null   object \n",
      " 2   Customer_care_calls  3144 non-null   float64\n",
      " 3   Customer_rating      4000 non-null   int64  \n",
      " 4   Cost_of_the_Product  4000 non-null   int64  \n",
      " 5   Prior_purchases      3633 non-null   float64\n",
      " 6   Product_importance   4000 non-null   object \n",
      " 7   Gender               4000 non-null   object \n",
      " 8   Discount_offered     2085 non-null   float64\n",
      " 9   Weight_in_gms        4000 non-null   object \n",
      "dtypes: float64(3), int64(2), object(5)\n",
      "memory usage: 343.8+ KB\n"
     ]
    }
   ],
   "source": [
    "train.info()\n",
    "test.info()"
   ]
  },
  {
   "cell_type": "code",
   "execution_count": 90,
   "metadata": {},
   "outputs": [
    {
     "data": {
      "text/plain": [
       "ID\n",
       "1          Ship\n",
       "2        Flight\n",
       "3          Ship\n",
       "4          Ship\n",
       "5        Flight\n",
       "         ...   \n",
       "6995       Ship\n",
       "6996       Ship\n",
       "6997       Ship\n",
       "6998       Road\n",
       "6999       Ship\n",
       "Name: Mode_of_Shipment, Length: 6999, dtype: object"
      ]
     },
     "execution_count": 90,
     "metadata": {},
     "output_type": "execute_result"
    }
   ],
   "source": [
    "train[\"Mode_of_Shipment\"]"
   ]
  },
  {
   "cell_type": "markdown",
   "metadata": {},
   "source": [
    "- train 결측치\n",
    "-  Customer_care_calls, Prior_purchases, Discount_offered"
   ]
  },
  {
   "cell_type": "markdown",
   "metadata": {},
   "source": [
    "- test 결측치\n",
    "- Customer_care_calls,Prior_purchases,  Discount_offered"
   ]
  },
  {
   "cell_type": "code",
   "execution_count": 91,
   "metadata": {
    "scrolled": true
   },
   "outputs": [
    {
     "data": {
      "text/html": [
       "<div>\n",
       "<style scoped>\n",
       "    .dataframe tbody tr th:only-of-type {\n",
       "        vertical-align: middle;\n",
       "    }\n",
       "\n",
       "    .dataframe tbody tr th {\n",
       "        vertical-align: top;\n",
       "    }\n",
       "\n",
       "    .dataframe thead th {\n",
       "        text-align: right;\n",
       "    }\n",
       "</style>\n",
       "<table border=\"1\" class=\"dataframe\">\n",
       "  <thead>\n",
       "    <tr style=\"text-align: right;\">\n",
       "      <th></th>\n",
       "      <th>Warehouse_block</th>\n",
       "      <th>Mode_of_Shipment</th>\n",
       "      <th>Customer_care_calls</th>\n",
       "      <th>Customer_rating</th>\n",
       "      <th>Cost_of_the_Product</th>\n",
       "      <th>Prior_purchases</th>\n",
       "      <th>Product_importance</th>\n",
       "      <th>Gender</th>\n",
       "      <th>Discount_offered</th>\n",
       "      <th>Weight_in_gms</th>\n",
       "      <th>Reached.on.Time_Y.N</th>\n",
       "    </tr>\n",
       "    <tr>\n",
       "      <th>ID</th>\n",
       "      <th></th>\n",
       "      <th></th>\n",
       "      <th></th>\n",
       "      <th></th>\n",
       "      <th></th>\n",
       "      <th></th>\n",
       "      <th></th>\n",
       "      <th></th>\n",
       "      <th></th>\n",
       "      <th></th>\n",
       "      <th></th>\n",
       "    </tr>\n",
       "  </thead>\n",
       "  <tbody>\n",
       "    <tr>\n",
       "      <th>1</th>\n",
       "      <td>C</td>\n",
       "      <td>Ship</td>\n",
       "      <td>2.0</td>\n",
       "      <td>2</td>\n",
       "      <td>135</td>\n",
       "      <td>3.0</td>\n",
       "      <td>low</td>\n",
       "      <td>M</td>\n",
       "      <td>NaN</td>\n",
       "      <td>1339</td>\n",
       "      <td>1</td>\n",
       "    </tr>\n",
       "    <tr>\n",
       "      <th>2</th>\n",
       "      <td>F</td>\n",
       "      <td>Flight</td>\n",
       "      <td>5.0</td>\n",
       "      <td>3</td>\n",
       "      <td>225</td>\n",
       "      <td>5.0</td>\n",
       "      <td>low</td>\n",
       "      <td>F</td>\n",
       "      <td>6.0</td>\n",
       "      <td>1082</td>\n",
       "      <td>0</td>\n",
       "    </tr>\n",
       "    <tr>\n",
       "      <th>3</th>\n",
       "      <td>F</td>\n",
       "      <td>Ship</td>\n",
       "      <td>3.0</td>\n",
       "      <td>1</td>\n",
       "      <td>229</td>\n",
       "      <td>3.0</td>\n",
       "      <td>low</td>\n",
       "      <td>M</td>\n",
       "      <td>NaN</td>\n",
       "      <td>4971</td>\n",
       "      <td>1</td>\n",
       "    </tr>\n",
       "    <tr>\n",
       "      <th>4</th>\n",
       "      <td>F</td>\n",
       "      <td>Ship</td>\n",
       "      <td>3.0</td>\n",
       "      <td>2</td>\n",
       "      <td>228</td>\n",
       "      <td>NaN</td>\n",
       "      <td>medium</td>\n",
       "      <td>M</td>\n",
       "      <td>2.0</td>\n",
       "      <td>5640</td>\n",
       "      <td>0</td>\n",
       "    </tr>\n",
       "    <tr>\n",
       "      <th>5</th>\n",
       "      <td>D</td>\n",
       "      <td>Flight</td>\n",
       "      <td>NaN</td>\n",
       "      <td>1</td>\n",
       "      <td>195</td>\n",
       "      <td>6.0</td>\n",
       "      <td>high</td>\n",
       "      <td>F</td>\n",
       "      <td>NaN</td>\n",
       "      <td>4944</td>\n",
       "      <td>1</td>\n",
       "    </tr>\n",
       "    <tr>\n",
       "      <th>...</th>\n",
       "      <td>...</td>\n",
       "      <td>...</td>\n",
       "      <td>...</td>\n",
       "      <td>...</td>\n",
       "      <td>...</td>\n",
       "      <td>...</td>\n",
       "      <td>...</td>\n",
       "      <td>...</td>\n",
       "      <td>...</td>\n",
       "      <td>...</td>\n",
       "      <td>...</td>\n",
       "    </tr>\n",
       "    <tr>\n",
       "      <th>6995</th>\n",
       "      <td>D</td>\n",
       "      <td>Ship</td>\n",
       "      <td>4.0</td>\n",
       "      <td>2</td>\n",
       "      <td>232</td>\n",
       "      <td>5.0</td>\n",
       "      <td>medium</td>\n",
       "      <td>F</td>\n",
       "      <td>4.0</td>\n",
       "      <td>1783</td>\n",
       "      <td>0</td>\n",
       "    </tr>\n",
       "    <tr>\n",
       "      <th>6996</th>\n",
       "      <td>F</td>\n",
       "      <td>Ship</td>\n",
       "      <td>3.0</td>\n",
       "      <td>5</td>\n",
       "      <td>228</td>\n",
       "      <td>2.0</td>\n",
       "      <td>medium</td>\n",
       "      <td>F</td>\n",
       "      <td>NaN</td>\n",
       "      <td>5208</td>\n",
       "      <td>0</td>\n",
       "    </tr>\n",
       "    <tr>\n",
       "      <th>6997</th>\n",
       "      <td>D</td>\n",
       "      <td>Ship</td>\n",
       "      <td>NaN</td>\n",
       "      <td>1</td>\n",
       "      <td>300</td>\n",
       "      <td>5.0</td>\n",
       "      <td>low</td>\n",
       "      <td>F</td>\n",
       "      <td>10.0</td>\n",
       "      <td>1787</td>\n",
       "      <td>0</td>\n",
       "    </tr>\n",
       "    <tr>\n",
       "      <th>6998</th>\n",
       "      <td>A</td>\n",
       "      <td>Road</td>\n",
       "      <td>3.0</td>\n",
       "      <td>1</td>\n",
       "      <td>232</td>\n",
       "      <td>2.0</td>\n",
       "      <td>medium</td>\n",
       "      <td>M</td>\n",
       "      <td>NaN</td>\n",
       "      <td>4719</td>\n",
       "      <td>0</td>\n",
       "    </tr>\n",
       "    <tr>\n",
       "      <th>6999</th>\n",
       "      <td>A</td>\n",
       "      <td>Ship</td>\n",
       "      <td>3.0</td>\n",
       "      <td>3</td>\n",
       "      <td>262</td>\n",
       "      <td>7.0</td>\n",
       "      <td>high</td>\n",
       "      <td>F</td>\n",
       "      <td>NaN</td>\n",
       "      <td>5097</td>\n",
       "      <td>0</td>\n",
       "    </tr>\n",
       "  </tbody>\n",
       "</table>\n",
       "<p>6999 rows × 11 columns</p>\n",
       "</div>"
      ],
      "text/plain": [
       "     Warehouse_block  Mode_of_Shipment  Customer_care_calls  Customer_rating  \\\n",
       "ID                                                                             \n",
       "1                   C             Ship                  2.0                2   \n",
       "2                   F           Flight                  5.0                3   \n",
       "3                   F             Ship                  3.0                1   \n",
       "4                   F             Ship                  3.0                2   \n",
       "5                   D           Flight                  NaN                1   \n",
       "...               ...              ...                  ...              ...   \n",
       "6995                D             Ship                  4.0                2   \n",
       "6996                F             Ship                  3.0                5   \n",
       "6997                D             Ship                  NaN                1   \n",
       "6998                A             Road                  3.0                1   \n",
       "6999                A             Ship                  3.0                3   \n",
       "\n",
       "      Cost_of_the_Product  Prior_purchases Product_importance Gender  \\\n",
       "ID                                                                     \n",
       "1                     135              3.0                low      M   \n",
       "2                     225              5.0                low      F   \n",
       "3                     229              3.0                low      M   \n",
       "4                     228              NaN             medium      M   \n",
       "5                     195              6.0               high      F   \n",
       "...                   ...              ...                ...    ...   \n",
       "6995                  232              5.0             medium      F   \n",
       "6996                  228              2.0             medium      F   \n",
       "6997                  300              5.0                low      F   \n",
       "6998                  232              2.0             medium      M   \n",
       "6999                  262              7.0               high      F   \n",
       "\n",
       "      Discount_offered Weight_in_gms  Reached.on.Time_Y.N  \n",
       "ID                                                         \n",
       "1                  NaN          1339                    1  \n",
       "2                  6.0          1082                    0  \n",
       "3                  NaN          4971                    1  \n",
       "4                  2.0          5640                    0  \n",
       "5                  NaN          4944                    1  \n",
       "...                ...           ...                  ...  \n",
       "6995               4.0          1783                    0  \n",
       "6996               NaN          5208                    0  \n",
       "6997              10.0          1787                    0  \n",
       "6998               NaN          4719                    0  \n",
       "6999               NaN          5097                    0  \n",
       "\n",
       "[6999 rows x 11 columns]"
      ]
     },
     "execution_count": 91,
     "metadata": {},
     "output_type": "execute_result"
    }
   ],
   "source": [
    "train"
   ]
  },
  {
   "cell_type": "code",
   "execution_count": 92,
   "metadata": {},
   "outputs": [
    {
     "name": "stdout",
     "output_type": "stream",
     "text": [
      "<class 'pandas.core.frame.DataFrame'>\n",
      "Int64Index: 6999 entries, 1 to 6999\n",
      "Data columns (total 11 columns):\n",
      " #   Column               Non-Null Count  Dtype  \n",
      "---  ------               --------------  -----  \n",
      " 0   Warehouse_block      6999 non-null   object \n",
      " 1   Mode_of_Shipment     6999 non-null   object \n",
      " 2   Customer_care_calls  5423 non-null   float64\n",
      " 3   Customer_rating      6999 non-null   int64  \n",
      " 4   Cost_of_the_Product  6999 non-null   int64  \n",
      " 5   Prior_purchases      6049 non-null   float64\n",
      " 6   Product_importance   6999 non-null   object \n",
      " 7   Gender               6999 non-null   object \n",
      " 8   Discount_offered     3468 non-null   float64\n",
      " 9   Weight_in_gms        6999 non-null   object \n",
      " 10  Reached.on.Time_Y.N  6999 non-null   int64  \n",
      "dtypes: float64(3), int64(3), object(5)\n",
      "memory usage: 656.2+ KB\n"
     ]
    }
   ],
   "source": [
    "train.info()"
   ]
  },
  {
   "cell_type": "code",
   "execution_count": 93,
   "metadata": {},
   "outputs": [
    {
     "data": {
      "text/plain": [
       "13.269031141868512"
      ]
     },
     "execution_count": 93,
     "metadata": {},
     "output_type": "execute_result"
    }
   ],
   "source": [
    "train[\"Discount_offered\"].mean()"
   ]
  },
  {
   "cell_type": "code",
   "execution_count": 94,
   "metadata": {},
   "outputs": [],
   "source": [
    "test[\"Prior_purchases\"] = test[\"Prior_purchases\"].fillna(0)"
   ]
  },
  {
   "cell_type": "code",
   "execution_count": 95,
   "metadata": {},
   "outputs": [],
   "source": [
    "train[\"Prior_purchases\"] = train[\"Prior_purchases\"].fillna(0)"
   ]
  },
  {
   "cell_type": "code",
   "execution_count": 96,
   "metadata": {},
   "outputs": [],
   "source": [
    "test[\"Discount_offered\"] = test[\"Discount_offered\"].fillna(13)"
   ]
  },
  {
   "cell_type": "code",
   "execution_count": 97,
   "metadata": {},
   "outputs": [],
   "source": [
    "train[\"Discount_offered\"] = train[\"Discount_offered\"].fillna(13)"
   ]
  },
  {
   "cell_type": "code",
   "execution_count": 98,
   "metadata": {},
   "outputs": [],
   "source": [
    "test[\"Customer_care_calls\"] = test[\"Customer_care_calls\"].fillna(3)"
   ]
  },
  {
   "cell_type": "code",
   "execution_count": 99,
   "metadata": {},
   "outputs": [],
   "source": [
    "train[\"Customer_care_calls\"] = train[\"Customer_care_calls\"].fillna(3)"
   ]
  },
  {
   "cell_type": "code",
   "execution_count": 100,
   "metadata": {},
   "outputs": [
    {
     "name": "stdout",
     "output_type": "stream",
     "text": [
      "<class 'pandas.core.frame.DataFrame'>\n",
      "Int64Index: 6999 entries, 1 to 6999\n",
      "Data columns (total 11 columns):\n",
      " #   Column               Non-Null Count  Dtype  \n",
      "---  ------               --------------  -----  \n",
      " 0   Warehouse_block      6999 non-null   object \n",
      " 1   Mode_of_Shipment     6999 non-null   object \n",
      " 2   Customer_care_calls  6999 non-null   float64\n",
      " 3   Customer_rating      6999 non-null   int64  \n",
      " 4   Cost_of_the_Product  6999 non-null   int64  \n",
      " 5   Prior_purchases      6999 non-null   float64\n",
      " 6   Product_importance   6999 non-null   object \n",
      " 7   Gender               6999 non-null   object \n",
      " 8   Discount_offered     6999 non-null   float64\n",
      " 9   Weight_in_gms        6999 non-null   object \n",
      " 10  Reached.on.Time_Y.N  6999 non-null   int64  \n",
      "dtypes: float64(3), int64(3), object(5)\n",
      "memory usage: 656.2+ KB\n",
      "<class 'pandas.core.frame.DataFrame'>\n",
      "Int64Index: 4000 entries, 7000 to 10999\n",
      "Data columns (total 10 columns):\n",
      " #   Column               Non-Null Count  Dtype  \n",
      "---  ------               --------------  -----  \n",
      " 0   Warehouse_block      4000 non-null   object \n",
      " 1   Mode_of_Shipment     4000 non-null   object \n",
      " 2   Customer_care_calls  4000 non-null   float64\n",
      " 3   Customer_rating      4000 non-null   int64  \n",
      " 4   Cost_of_the_Product  4000 non-null   int64  \n",
      " 5   Prior_purchases      4000 non-null   float64\n",
      " 6   Product_importance   4000 non-null   object \n",
      " 7   Gender               4000 non-null   object \n",
      " 8   Discount_offered     4000 non-null   float64\n",
      " 9   Weight_in_gms        4000 non-null   object \n",
      "dtypes: float64(3), int64(2), object(5)\n",
      "memory usage: 343.8+ KB\n"
     ]
    }
   ],
   "source": [
    "train.info()\n",
    "test.info()"
   ]
  },
  {
   "cell_type": "code",
   "execution_count": 101,
   "metadata": {
    "scrolled": false
   },
   "outputs": [
    {
     "data": {
      "text/html": [
       "<div>\n",
       "<style scoped>\n",
       "    .dataframe tbody tr th:only-of-type {\n",
       "        vertical-align: middle;\n",
       "    }\n",
       "\n",
       "    .dataframe tbody tr th {\n",
       "        vertical-align: top;\n",
       "    }\n",
       "\n",
       "    .dataframe thead th {\n",
       "        text-align: right;\n",
       "    }\n",
       "</style>\n",
       "<table border=\"1\" class=\"dataframe\">\n",
       "  <thead>\n",
       "    <tr style=\"text-align: right;\">\n",
       "      <th></th>\n",
       "      <th>Warehouse_block</th>\n",
       "      <th>Mode_of_Shipment</th>\n",
       "      <th>Customer_care_calls</th>\n",
       "      <th>Customer_rating</th>\n",
       "      <th>Cost_of_the_Product</th>\n",
       "      <th>Prior_purchases</th>\n",
       "      <th>Product_importance</th>\n",
       "      <th>Gender</th>\n",
       "      <th>Discount_offered</th>\n",
       "      <th>Weight_in_gms</th>\n",
       "    </tr>\n",
       "    <tr>\n",
       "      <th>ID</th>\n",
       "      <th></th>\n",
       "      <th></th>\n",
       "      <th></th>\n",
       "      <th></th>\n",
       "      <th></th>\n",
       "      <th></th>\n",
       "      <th></th>\n",
       "      <th></th>\n",
       "      <th></th>\n",
       "      <th></th>\n",
       "    </tr>\n",
       "  </thead>\n",
       "  <tbody>\n",
       "    <tr>\n",
       "      <th>7000</th>\n",
       "      <td>F</td>\n",
       "      <td>Ship</td>\n",
       "      <td>3.0</td>\n",
       "      <td>1</td>\n",
       "      <td>274</td>\n",
       "      <td>0.0</td>\n",
       "      <td>high</td>\n",
       "      <td>M</td>\n",
       "      <td>13.0</td>\n",
       "      <td>4352</td>\n",
       "    </tr>\n",
       "    <tr>\n",
       "      <th>7001</th>\n",
       "      <td>F</td>\n",
       "      <td>Ship</td>\n",
       "      <td>3.0</td>\n",
       "      <td>4</td>\n",
       "      <td>136</td>\n",
       "      <td>2.0</td>\n",
       "      <td>medium</td>\n",
       "      <td>F</td>\n",
       "      <td>13.0</td>\n",
       "      <td>1056</td>\n",
       "    </tr>\n",
       "    <tr>\n",
       "      <th>7002</th>\n",
       "      <td>A</td>\n",
       "      <td>Flight</td>\n",
       "      <td>3.0</td>\n",
       "      <td>5</td>\n",
       "      <td>140</td>\n",
       "      <td>3.0</td>\n",
       "      <td>low</td>\n",
       "      <td>F</td>\n",
       "      <td>7.0</td>\n",
       "      <td>5383</td>\n",
       "    </tr>\n",
       "    <tr>\n",
       "      <th>7003</th>\n",
       "      <td>C</td>\n",
       "      <td>Ship</td>\n",
       "      <td>3.0</td>\n",
       "      <td>1</td>\n",
       "      <td>291</td>\n",
       "      <td>4.0</td>\n",
       "      <td>low</td>\n",
       "      <td>F</td>\n",
       "      <td>13.0</td>\n",
       "      <td>1880</td>\n",
       "    </tr>\n",
       "    <tr>\n",
       "      <th>7004</th>\n",
       "      <td>F</td>\n",
       "      <td>?</td>\n",
       "      <td>4.0</td>\n",
       "      <td>2</td>\n",
       "      <td>147</td>\n",
       "      <td>3.0</td>\n",
       "      <td>low</td>\n",
       "      <td>F</td>\n",
       "      <td>5.0</td>\n",
       "      <td>5174</td>\n",
       "    </tr>\n",
       "    <tr>\n",
       "      <th>...</th>\n",
       "      <td>...</td>\n",
       "      <td>...</td>\n",
       "      <td>...</td>\n",
       "      <td>...</td>\n",
       "      <td>...</td>\n",
       "      <td>...</td>\n",
       "      <td>...</td>\n",
       "      <td>...</td>\n",
       "      <td>...</td>\n",
       "      <td>...</td>\n",
       "    </tr>\n",
       "    <tr>\n",
       "      <th>10995</th>\n",
       "      <td>A</td>\n",
       "      <td>?</td>\n",
       "      <td>4.0</td>\n",
       "      <td>1</td>\n",
       "      <td>204</td>\n",
       "      <td>4.0</td>\n",
       "      <td>?</td>\n",
       "      <td>F</td>\n",
       "      <td>13.0</td>\n",
       "      <td>1667</td>\n",
       "    </tr>\n",
       "    <tr>\n",
       "      <th>10996</th>\n",
       "      <td>C</td>\n",
       "      <td>Ship</td>\n",
       "      <td>3.0</td>\n",
       "      <td>3</td>\n",
       "      <td>195</td>\n",
       "      <td>2.0</td>\n",
       "      <td>medium</td>\n",
       "      <td>M</td>\n",
       "      <td>13.0</td>\n",
       "      <td>3869</td>\n",
       "    </tr>\n",
       "    <tr>\n",
       "      <th>10997</th>\n",
       "      <td>B</td>\n",
       "      <td>Flight</td>\n",
       "      <td>3.0</td>\n",
       "      <td>3</td>\n",
       "      <td>206</td>\n",
       "      <td>2.0</td>\n",
       "      <td>medium</td>\n",
       "      <td>M</td>\n",
       "      <td>7.0</td>\n",
       "      <td>4531</td>\n",
       "    </tr>\n",
       "    <tr>\n",
       "      <th>10998</th>\n",
       "      <td>C</td>\n",
       "      <td>Ship</td>\n",
       "      <td>6.0</td>\n",
       "      <td>4</td>\n",
       "      <td>255</td>\n",
       "      <td>4.0</td>\n",
       "      <td>low</td>\n",
       "      <td>M</td>\n",
       "      <td>7.0</td>\n",
       "      <td>1869</td>\n",
       "    </tr>\n",
       "    <tr>\n",
       "      <th>10999</th>\n",
       "      <td>D</td>\n",
       "      <td>Ship</td>\n",
       "      <td>5.0</td>\n",
       "      <td>1</td>\n",
       "      <td>252</td>\n",
       "      <td>5.0</td>\n",
       "      <td>?</td>\n",
       "      <td>M</td>\n",
       "      <td>4.0</td>\n",
       "      <td>1308</td>\n",
       "    </tr>\n",
       "  </tbody>\n",
       "</table>\n",
       "<p>4000 rows × 10 columns</p>\n",
       "</div>"
      ],
      "text/plain": [
       "      Warehouse_block  Mode_of_Shipment  Customer_care_calls  Customer_rating  \\\n",
       "ID                                                                              \n",
       "7000                 F             Ship                  3.0                1   \n",
       "7001                 F             Ship                  3.0                4   \n",
       "7002                 A           Flight                  3.0                5   \n",
       "7003                 C             Ship                  3.0                1   \n",
       "7004                 F                ?                  4.0                2   \n",
       "...                ...              ...                  ...              ...   \n",
       "10995                A                ?                  4.0                1   \n",
       "10996                C             Ship                  3.0                3   \n",
       "10997                B           Flight                  3.0                3   \n",
       "10998                C             Ship                  6.0                4   \n",
       "10999                D             Ship                  5.0                1   \n",
       "\n",
       "       Cost_of_the_Product  Prior_purchases Product_importance Gender  \\\n",
       "ID                                                                      \n",
       "7000                   274              0.0               high      M   \n",
       "7001                   136              2.0             medium      F   \n",
       "7002                   140              3.0                low      F   \n",
       "7003                   291              4.0                low      F   \n",
       "7004                   147              3.0                low      F   \n",
       "...                    ...              ...                ...    ...   \n",
       "10995                  204              4.0                  ?      F   \n",
       "10996                  195              2.0             medium      M   \n",
       "10997                  206              2.0             medium      M   \n",
       "10998                  255              4.0                low      M   \n",
       "10999                  252              5.0                  ?      M   \n",
       "\n",
       "       Discount_offered Weight_in_gms  \n",
       "ID                                     \n",
       "7000               13.0          4352  \n",
       "7001               13.0          1056  \n",
       "7002                7.0          5383  \n",
       "7003               13.0          1880  \n",
       "7004                5.0          5174  \n",
       "...                 ...           ...  \n",
       "10995              13.0          1667  \n",
       "10996              13.0          3869  \n",
       "10997               7.0          4531  \n",
       "10998               7.0          1869  \n",
       "10999               4.0          1308  \n",
       "\n",
       "[4000 rows x 10 columns]"
      ]
     },
     "execution_count": 101,
     "metadata": {},
     "output_type": "execute_result"
    }
   ],
   "source": [
    "test"
   ]
  },
  {
   "cell_type": "markdown",
   "metadata": {},
   "source": [
    "### 데이터 전처리"
   ]
  },
  {
   "cell_type": "code",
   "execution_count": 102,
   "metadata": {
    "scrolled": true
   },
   "outputs": [
    {
     "data": {
      "text/html": [
       "<div>\n",
       "<style scoped>\n",
       "    .dataframe tbody tr th:only-of-type {\n",
       "        vertical-align: middle;\n",
       "    }\n",
       "\n",
       "    .dataframe tbody tr th {\n",
       "        vertical-align: top;\n",
       "    }\n",
       "\n",
       "    .dataframe thead th {\n",
       "        text-align: right;\n",
       "    }\n",
       "</style>\n",
       "<table border=\"1\" class=\"dataframe\">\n",
       "  <thead>\n",
       "    <tr style=\"text-align: right;\">\n",
       "      <th></th>\n",
       "      <th>Customer_care_calls</th>\n",
       "      <th>Customer_rating</th>\n",
       "      <th>Cost_of_the_Product</th>\n",
       "      <th>Prior_purchases</th>\n",
       "      <th>Discount_offered</th>\n",
       "      <th>Reached.on.Time_Y.N</th>\n",
       "    </tr>\n",
       "  </thead>\n",
       "  <tbody>\n",
       "    <tr>\n",
       "      <th>Customer_care_calls</th>\n",
       "      <td>1.000000</td>\n",
       "      <td>0.015652</td>\n",
       "      <td>0.046637</td>\n",
       "      <td>0.092780</td>\n",
       "      <td>-0.095014</td>\n",
       "      <td>-0.070801</td>\n",
       "    </tr>\n",
       "    <tr>\n",
       "      <th>Customer_rating</th>\n",
       "      <td>0.015652</td>\n",
       "      <td>1.000000</td>\n",
       "      <td>-0.001961</td>\n",
       "      <td>-0.002233</td>\n",
       "      <td>-0.007780</td>\n",
       "      <td>0.011275</td>\n",
       "    </tr>\n",
       "    <tr>\n",
       "      <th>Cost_of_the_Product</th>\n",
       "      <td>0.046637</td>\n",
       "      <td>-0.001961</td>\n",
       "      <td>1.000000</td>\n",
       "      <td>0.028297</td>\n",
       "      <td>-0.023089</td>\n",
       "      <td>-0.012811</td>\n",
       "    </tr>\n",
       "    <tr>\n",
       "      <th>Prior_purchases</th>\n",
       "      <td>0.092780</td>\n",
       "      <td>-0.002233</td>\n",
       "      <td>0.028297</td>\n",
       "      <td>1.000000</td>\n",
       "      <td>-0.039500</td>\n",
       "      <td>-0.032579</td>\n",
       "    </tr>\n",
       "    <tr>\n",
       "      <th>Discount_offered</th>\n",
       "      <td>-0.095014</td>\n",
       "      <td>-0.007780</td>\n",
       "      <td>-0.023089</td>\n",
       "      <td>-0.039500</td>\n",
       "      <td>1.000000</td>\n",
       "      <td>0.279644</td>\n",
       "    </tr>\n",
       "    <tr>\n",
       "      <th>Reached.on.Time_Y.N</th>\n",
       "      <td>-0.070801</td>\n",
       "      <td>0.011275</td>\n",
       "      <td>-0.012811</td>\n",
       "      <td>-0.032579</td>\n",
       "      <td>0.279644</td>\n",
       "      <td>1.000000</td>\n",
       "    </tr>\n",
       "  </tbody>\n",
       "</table>\n",
       "</div>"
      ],
      "text/plain": [
       "                     Customer_care_calls  Customer_rating  \\\n",
       "Customer_care_calls             1.000000         0.015652   \n",
       "Customer_rating                 0.015652         1.000000   \n",
       "Cost_of_the_Product             0.046637        -0.001961   \n",
       "Prior_purchases                 0.092780        -0.002233   \n",
       "Discount_offered               -0.095014        -0.007780   \n",
       "Reached.on.Time_Y.N            -0.070801         0.011275   \n",
       "\n",
       "                     Cost_of_the_Product  Prior_purchases  Discount_offered  \\\n",
       "Customer_care_calls             0.046637         0.092780         -0.095014   \n",
       "Customer_rating                -0.001961        -0.002233         -0.007780   \n",
       "Cost_of_the_Product             1.000000         0.028297         -0.023089   \n",
       "Prior_purchases                 0.028297         1.000000         -0.039500   \n",
       "Discount_offered               -0.023089        -0.039500          1.000000   \n",
       "Reached.on.Time_Y.N            -0.012811        -0.032579          0.279644   \n",
       "\n",
       "                     Reached.on.Time_Y.N  \n",
       "Customer_care_calls            -0.070801  \n",
       "Customer_rating                 0.011275  \n",
       "Cost_of_the_Product            -0.012811  \n",
       "Prior_purchases                -0.032579  \n",
       "Discount_offered                0.279644  \n",
       "Reached.on.Time_Y.N             1.000000  "
      ]
     },
     "execution_count": 102,
     "metadata": {},
     "output_type": "execute_result"
    }
   ],
   "source": [
    "train.corr()"
   ]
  },
  {
   "cell_type": "markdown",
   "metadata": {},
   "source": [
    "- Customer_care_calls 채우기"
   ]
  },
  {
   "cell_type": "code",
   "execution_count": 103,
   "metadata": {},
   "outputs": [
    {
     "data": {
      "text/html": [
       "<div>\n",
       "<style scoped>\n",
       "    .dataframe tbody tr th:only-of-type {\n",
       "        vertical-align: middle;\n",
       "    }\n",
       "\n",
       "    .dataframe tbody tr th {\n",
       "        vertical-align: top;\n",
       "    }\n",
       "\n",
       "    .dataframe thead th {\n",
       "        text-align: right;\n",
       "    }\n",
       "</style>\n",
       "<table border=\"1\" class=\"dataframe\">\n",
       "  <thead>\n",
       "    <tr style=\"text-align: right;\">\n",
       "      <th></th>\n",
       "      <th></th>\n",
       "      <th>Customer_care_calls</th>\n",
       "    </tr>\n",
       "    <tr>\n",
       "      <th>Prior_purchases</th>\n",
       "      <th>Mode_of_Shipment</th>\n",
       "      <th></th>\n",
       "    </tr>\n",
       "  </thead>\n",
       "  <tbody>\n",
       "    <tr>\n",
       "      <th rowspan=\"4\" valign=\"top\">0.0</th>\n",
       "      <th>Flight</th>\n",
       "      <td>124</td>\n",
       "    </tr>\n",
       "    <tr>\n",
       "      <th>Road</th>\n",
       "      <td>156</td>\n",
       "    </tr>\n",
       "    <tr>\n",
       "      <th>Ship</th>\n",
       "      <td>624</td>\n",
       "    </tr>\n",
       "    <tr>\n",
       "      <th>?</th>\n",
       "      <td>46</td>\n",
       "    </tr>\n",
       "    <tr>\n",
       "      <th rowspan=\"4\" valign=\"top\">2.0</th>\n",
       "      <th>Flight</th>\n",
       "      <td>205</td>\n",
       "    </tr>\n",
       "    <tr>\n",
       "      <th>Road</th>\n",
       "      <td>210</td>\n",
       "    </tr>\n",
       "    <tr>\n",
       "      <th>Ship</th>\n",
       "      <td>925</td>\n",
       "    </tr>\n",
       "    <tr>\n",
       "      <th>?</th>\n",
       "      <td>83</td>\n",
       "    </tr>\n",
       "    <tr>\n",
       "      <th rowspan=\"6\" valign=\"top\">3.0</th>\n",
       "      <th>Flight</th>\n",
       "      <td>317</td>\n",
       "    </tr>\n",
       "    <tr>\n",
       "      <th>Road</th>\n",
       "      <td>341</td>\n",
       "    </tr>\n",
       "    <tr>\n",
       "      <th>Roadzk</th>\n",
       "      <td>1</td>\n",
       "    </tr>\n",
       "    <tr>\n",
       "      <th>Ship</th>\n",
       "      <td>1401</td>\n",
       "    </tr>\n",
       "    <tr>\n",
       "      <th>Shipzk</th>\n",
       "      <td>1</td>\n",
       "    </tr>\n",
       "    <tr>\n",
       "      <th>?</th>\n",
       "      <td>115</td>\n",
       "    </tr>\n",
       "    <tr>\n",
       "      <th rowspan=\"5\" valign=\"top\">4.0</th>\n",
       "      <th>Flight</th>\n",
       "      <td>176</td>\n",
       "    </tr>\n",
       "    <tr>\n",
       "      <th>Flightzk</th>\n",
       "      <td>1</td>\n",
       "    </tr>\n",
       "    <tr>\n",
       "      <th>Road</th>\n",
       "      <td>156</td>\n",
       "    </tr>\n",
       "    <tr>\n",
       "      <th>Ship</th>\n",
       "      <td>785</td>\n",
       "    </tr>\n",
       "    <tr>\n",
       "      <th>?</th>\n",
       "      <td>44</td>\n",
       "    </tr>\n",
       "    <tr>\n",
       "      <th rowspan=\"5\" valign=\"top\">5.0</th>\n",
       "      <th>Flight</th>\n",
       "      <td>138</td>\n",
       "    </tr>\n",
       "    <tr>\n",
       "      <th>Road</th>\n",
       "      <td>106</td>\n",
       "    </tr>\n",
       "    <tr>\n",
       "      <th>Ship</th>\n",
       "      <td>441</td>\n",
       "    </tr>\n",
       "    <tr>\n",
       "      <th>Shipzk</th>\n",
       "      <td>1</td>\n",
       "    </tr>\n",
       "    <tr>\n",
       "      <th>?</th>\n",
       "      <td>49</td>\n",
       "    </tr>\n",
       "    <tr>\n",
       "      <th rowspan=\"4\" valign=\"top\">6.0</th>\n",
       "      <th>Flight</th>\n",
       "      <td>48</td>\n",
       "    </tr>\n",
       "    <tr>\n",
       "      <th>Road</th>\n",
       "      <td>62</td>\n",
       "    </tr>\n",
       "    <tr>\n",
       "      <th>Ship</th>\n",
       "      <td>182</td>\n",
       "    </tr>\n",
       "    <tr>\n",
       "      <th>?</th>\n",
       "      <td>18</td>\n",
       "    </tr>\n",
       "    <tr>\n",
       "      <th rowspan=\"4\" valign=\"top\">7.0</th>\n",
       "      <th>Flight</th>\n",
       "      <td>10</td>\n",
       "    </tr>\n",
       "    <tr>\n",
       "      <th>Road</th>\n",
       "      <td>13</td>\n",
       "    </tr>\n",
       "    <tr>\n",
       "      <th>Ship</th>\n",
       "      <td>40</td>\n",
       "    </tr>\n",
       "    <tr>\n",
       "      <th>?</th>\n",
       "      <td>7</td>\n",
       "    </tr>\n",
       "    <tr>\n",
       "      <th rowspan=\"4\" valign=\"top\">8.0</th>\n",
       "      <th>Flight</th>\n",
       "      <td>9</td>\n",
       "    </tr>\n",
       "    <tr>\n",
       "      <th>Road</th>\n",
       "      <td>12</td>\n",
       "    </tr>\n",
       "    <tr>\n",
       "      <th>Ship</th>\n",
       "      <td>47</td>\n",
       "    </tr>\n",
       "    <tr>\n",
       "      <th>?</th>\n",
       "      <td>4</td>\n",
       "    </tr>\n",
       "    <tr>\n",
       "      <th rowspan=\"4\" valign=\"top\">10.0</th>\n",
       "      <th>Flight</th>\n",
       "      <td>12</td>\n",
       "    </tr>\n",
       "    <tr>\n",
       "      <th>Road</th>\n",
       "      <td>19</td>\n",
       "    </tr>\n",
       "    <tr>\n",
       "      <th>Ship</th>\n",
       "      <td>63</td>\n",
       "    </tr>\n",
       "    <tr>\n",
       "      <th>?</th>\n",
       "      <td>7</td>\n",
       "    </tr>\n",
       "  </tbody>\n",
       "</table>\n",
       "</div>"
      ],
      "text/plain": [
       "                                  Customer_care_calls\n",
       "Prior_purchases Mode_of_Shipment                     \n",
       "0.0              Flight                           124\n",
       "                 Road                             156\n",
       "                 Ship                             624\n",
       "                ?                                  46\n",
       "2.0              Flight                           205\n",
       "                 Road                             210\n",
       "                 Ship                             925\n",
       "                ?                                  83\n",
       "3.0              Flight                           317\n",
       "                 Road                             341\n",
       "                 Roadzk                             1\n",
       "                 Ship                            1401\n",
       "                 Shipzk                             1\n",
       "                ?                                 115\n",
       "4.0              Flight                           176\n",
       "                 Flightzk                           1\n",
       "                 Road                             156\n",
       "                 Ship                             785\n",
       "                ?                                  44\n",
       "5.0              Flight                           138\n",
       "                 Road                             106\n",
       "                 Ship                             441\n",
       "                 Shipzk                             1\n",
       "                ?                                  49\n",
       "6.0              Flight                            48\n",
       "                 Road                              62\n",
       "                 Ship                             182\n",
       "                ?                                  18\n",
       "7.0              Flight                            10\n",
       "                 Road                              13\n",
       "                 Ship                              40\n",
       "                ?                                   7\n",
       "8.0              Flight                             9\n",
       "                 Road                              12\n",
       "                 Ship                              47\n",
       "                ?                                   4\n",
       "10.0             Flight                            12\n",
       "                 Road                              19\n",
       "                 Ship                              63\n",
       "                ?                                   7"
      ]
     },
     "execution_count": 103,
     "metadata": {},
     "output_type": "execute_result"
    }
   ],
   "source": [
    "pt1 = train.pivot_table(values=\"Customer_care_calls\", # 데이터로 사용될 열(컬럼)을 지정\n",
    "                        index = [\"Prior_purchases\", \"Mode_of_Shipment\"],#멀티인덱스 설정 \n",
    "                        aggfunc=\"count\", # 데이터 요약시 사용하는 함수를 지정,mean, sum, count\n",
    "                       )\n",
    "pt1"
   ]
  },
  {
   "cell_type": "code",
   "execution_count": 104,
   "metadata": {},
   "outputs": [],
   "source": [
    "train[\"Customer_care_calls\"] = train[\"Customer_care_calls\"].fillna(\"3\")"
   ]
  },
  {
   "cell_type": "code",
   "execution_count": 105,
   "metadata": {},
   "outputs": [
    {
     "data": {
      "text/plain": [
       "ID\n",
       "1       2.0\n",
       "2       5.0\n",
       "3       3.0\n",
       "4       3.0\n",
       "5       3.0\n",
       "       ... \n",
       "6995    4.0\n",
       "6996    3.0\n",
       "6997    3.0\n",
       "6998    3.0\n",
       "6999    3.0\n",
       "Name: Customer_care_calls, Length: 6999, dtype: float64"
      ]
     },
     "execution_count": 105,
     "metadata": {},
     "output_type": "execute_result"
    }
   ],
   "source": [
    "train[\"Customer_care_calls\"]"
   ]
  },
  {
   "cell_type": "markdown",
   "metadata": {},
   "source": [
    "- def함수를 이용해 결측치를 채워보자"
   ]
  },
  {
   "cell_type": "code",
   "execution_count": 106,
   "metadata": {},
   "outputs": [],
   "source": [
    "def fill_calls(data) :  # 매개변수 data에는 train 혹은 test가 들어가게 됨\n",
    "    \n",
    "    if pd.isna(data[\"Customer_care_calls\"]) :\n",
    "        # 위 피벗테이블에서 만든 값을 리턴\n",
    "        return pt1.loc[data[\"pr\"], data[\"Mode_of_Shipment\"]]\n",
    "    else :\n",
    "        return data[\"Customer_care_calls\"]"
   ]
  },
  {
   "cell_type": "code",
   "execution_count": 107,
   "metadata": {},
   "outputs": [
    {
     "data": {
      "text/plain": [
       "ID\n",
       "1       2.0\n",
       "2       5.0\n",
       "3       3.0\n",
       "4       3.0\n",
       "5       3.0\n",
       "       ... \n",
       "6995    4.0\n",
       "6996    3.0\n",
       "6997    3.0\n",
       "6998    3.0\n",
       "6999    3.0\n",
       "Name: Customer_care_calls, Length: 6999, dtype: float64"
      ]
     },
     "execution_count": 107,
     "metadata": {},
     "output_type": "execute_result"
    }
   ],
   "source": [
    "train[\"Customer_care_calls\"]"
   ]
  },
  {
   "cell_type": "code",
   "execution_count": 108,
   "metadata": {},
   "outputs": [],
   "source": [
    "# apply 사용해서 함수 적용\n",
    "train[\"Customer_care_calls\"] = train.apply(fill_calls, axis=1).astype(\"int64\")\n"
   ]
  },
  {
   "cell_type": "code",
   "execution_count": 109,
   "metadata": {
    "scrolled": true
   },
   "outputs": [
    {
     "data": {
      "image/png": "[encoded data removed]",
      "text/plain": [
       "<Figure size 1080x360 with 1 Axes>"
      ]
     },
     "metadata": {
      "needs_background": "light"
     },
     "output_type": "display_data"
    }
   ],
   "source": [
    "plt.figure(figsize=(15, 5))\n",
    "plt.ylim(0, 10) # y축의 범위를 0  ~ 10까지로 설정\n",
    "sns.countplot(data = train,\n",
    "              x = \"Mode_of_Shipment\",\n",
    "              hue = \"Reached.on.Time_Y.N\"\n",
    "             );"
   ]
  },
  {
   "cell_type": "code",
   "execution_count": 110,
   "metadata": {
    "scrolled": true
   },
   "outputs": [
    {
     "data": {
      "text/plain": [
       "array([' Ship', ' Flight', ' Road', '?', ' Shipzk', ' Flightzk',\n",
       "       ' Roadzk'], dtype=object)"
      ]
     },
     "execution_count": 110,
     "metadata": {},
     "output_type": "execute_result"
    }
   ],
   "source": [
    "train[\"Mode_of_Shipment\"].unique()"
   ]
  },
  {
   "cell_type": "code",
   "execution_count": 111,
   "metadata": {},
   "outputs": [
    {
     "data": {
      "text/plain": [
       "array([' Ship', ' Flight', '?', ' Road', ' Shipzk', ' Roadzk'],\n",
       "      dtype=object)"
      ]
     },
     "execution_count": 111,
     "metadata": {},
     "output_type": "execute_result"
    }
   ],
   "source": [
    "test[\"Mode_of_Shipment\"].unique()"
   ]
  },
  {
   "cell_type": "code",
   "execution_count": 112,
   "metadata": {},
   "outputs": [
    {
     "data": {
      "text/plain": [
       "[' Ship', ' Flight', ' Road', '?', ' Shipzk', ' Flightzk', ' Roadzk']"
      ]
     },
     "execution_count": 112,
     "metadata": {},
     "output_type": "execute_result"
    }
   ],
   "source": [
    "mode = [' Ship', ' Flight', ' Road', '?', ' Shipzk', ' Flightzk',\n",
    "       ' Roadzk']\n",
    "mode"
   ]
  },
  {
   "cell_type": "code",
   "execution_count": 113,
   "metadata": {
    "scrolled": true
   },
   "outputs": [
    {
     "data": {
      "text/plain": [
       "[' Ship', ' Flight', ' Road', 'Other', 'Other', 'Other', 'Other']"
      ]
     },
     "execution_count": 113,
     "metadata": {},
     "output_type": "execute_result"
    }
   ],
   "source": [
    "convert_mode = [' Ship', ' Flight', ' Road',] + [\"Other\"] * 4\n",
    "convert_mode"
   ]
  },
  {
   "cell_type": "code",
   "execution_count": 114,
   "metadata": {},
   "outputs": [
    {
     "data": {
      "text/plain": [
       "{' Ship': ' Ship',\n",
       " ' Flight': ' Flight',\n",
       " ' Road': ' Road',\n",
       " '?': 'Other',\n",
       " ' Shipzk': 'Other',\n",
       " ' Flightzk': 'Other',\n",
       " ' Roadzk': 'Other'}"
      ]
     },
     "execution_count": 114,
     "metadata": {},
     "output_type": "execute_result"
    }
   ],
   "source": [
    "mode_dict = dict(zip(mode, convert_mode))\n",
    "mode_dict"
   ]
  },
  {
   "cell_type": "code",
   "execution_count": 115,
   "metadata": {},
   "outputs": [],
   "source": [
    "train[\"Mode_of_Shipment\"] = train[\"Mode_of_Shipment\"].map(mode_dict)"
   ]
  },
  {
   "cell_type": "code",
   "execution_count": 116,
   "metadata": {},
   "outputs": [
    {
     "data": {
      "text/plain": [
       "ID\n",
       "6930       Ship\n",
       "6931       Ship\n",
       "6932       Ship\n",
       "6933     Flight\n",
       "6934     Flight\n",
       "         ...   \n",
       "6995       Ship\n",
       "6996       Ship\n",
       "6997       Ship\n",
       "6998       Road\n",
       "6999       Ship\n",
       "Name: Mode_of_Shipment, Length: 70, dtype: object"
      ]
     },
     "execution_count": 116,
     "metadata": {},
     "output_type": "execute_result"
    }
   ],
   "source": [
    "train[\"Mode_of_Shipment\"].tail(70)"
   ]
  },
  {
   "cell_type": "code",
   "execution_count": 117,
   "metadata": {},
   "outputs": [],
   "source": [
    "test[\"Mode_of_Shipment\"] = test[\"Mode_of_Shipment\"].map(mode_dict)"
   ]
  },
  {
   "cell_type": "code",
   "execution_count": 118,
   "metadata": {},
   "outputs": [
    {
     "data": {
      "image/png": "[encoded data removed]",
      "text/plain": [
       "<Figure size 1080x360 with 1 Axes>"
      ]
     },
     "metadata": {
      "needs_background": "light"
     },
     "output_type": "display_data"
    }
   ],
   "source": [
    "plt.figure(figsize=(15, 5))\n",
    "plt.ylim(0, 10) # y축의 범위를 0  ~ 10까지로 설정\n",
    "sns.countplot(data = train,\n",
    "              x = \"Product_importance\",\n",
    "              hue = \"Reached.on.Time_Y.N\"\n",
    "             );"
   ]
  },
  {
   "cell_type": "code",
   "execution_count": 119,
   "metadata": {},
   "outputs": [
    {
     "data": {
      "text/plain": [
       "array(['low', 'medium', 'high', '?', 'mediumm', 'loww', 'highh'],\n",
       "      dtype=object)"
      ]
     },
     "execution_count": 119,
     "metadata": {},
     "output_type": "execute_result"
    }
   ],
   "source": [
    "train[\"Product_importance\"].unique()"
   ]
  },
  {
   "cell_type": "code",
   "execution_count": 120,
   "metadata": {},
   "outputs": [
    {
     "data": {
      "text/plain": [
       "array(['high', 'medium', 'low', '?', 'mediumm'], dtype=object)"
      ]
     },
     "execution_count": 120,
     "metadata": {},
     "output_type": "execute_result"
    }
   ],
   "source": [
    "test[\"Product_importance\"].unique()"
   ]
  },
  {
   "cell_type": "code",
   "execution_count": 121,
   "metadata": {},
   "outputs": [
    {
     "data": {
      "text/plain": [
       "['low', 'medium', 'high', '?', 'mediumm', 'loww', 'highh']"
      ]
     },
     "execution_count": 121,
     "metadata": {},
     "output_type": "execute_result"
    }
   ],
   "source": [
    "product = ['low', 'medium', 'high', '?', 'mediumm', 'loww', 'highh']\n",
    "product"
   ]
  },
  {
   "cell_type": "code",
   "execution_count": 122,
   "metadata": {},
   "outputs": [
    {
     "data": {
      "text/plain": [
       "['low', 'medium', 'high', 'Other', 'Other', 'Other', 'Other']"
      ]
     },
     "execution_count": 122,
     "metadata": {},
     "output_type": "execute_result"
    }
   ],
   "source": [
    "convert_product = ['low', 'medium', 'high'] + [\"Other\"] * 4\n",
    "convert_product"
   ]
  },
  {
   "cell_type": "code",
   "execution_count": 123,
   "metadata": {
    "scrolled": true
   },
   "outputs": [
    {
     "data": {
      "text/plain": [
       "{'low': 'low',\n",
       " 'medium': 'medium',\n",
       " 'high': 'high',\n",
       " '?': 'Other',\n",
       " 'mediumm': 'Other',\n",
       " 'loww': 'Other',\n",
       " 'highh': 'Other'}"
      ]
     },
     "execution_count": 123,
     "metadata": {},
     "output_type": "execute_result"
    }
   ],
   "source": [
    "product_dict = dict(zip(product, convert_product))\n",
    "product_dict"
   ]
  },
  {
   "cell_type": "code",
   "execution_count": 124,
   "metadata": {},
   "outputs": [],
   "source": [
    "train[\"Product_importance\"] = train[\"Product_importance\"].map(product_dict)"
   ]
  },
  {
   "cell_type": "code",
   "execution_count": 125,
   "metadata": {},
   "outputs": [],
   "source": [
    "test[\"Product_importance\"] = test[\"Product_importance\"].map(mode_dict)"
   ]
  },
  {
   "cell_type": "code",
   "execution_count": 126,
   "metadata": {},
   "outputs": [],
   "source": [
    "train.drop(\"Gender\", axis=1, inplace= True)"
   ]
  },
  {
   "cell_type": "code",
   "execution_count": 127,
   "metadata": {},
   "outputs": [],
   "source": [
    "test.drop(\"Gender\", axis=1, inplace= True)"
   ]
  },
  {
   "cell_type": "code",
   "execution_count": 128,
   "metadata": {},
   "outputs": [],
   "source": [
    "train.drop(\"Weight_in_gms\", axis=1, inplace = True)"
   ]
  },
  {
   "cell_type": "code",
   "execution_count": 129,
   "metadata": {},
   "outputs": [],
   "source": [
    "test.drop(\"Weight_in_gms\", axis=1, inplace = True)"
   ]
  },
  {
   "cell_type": "code",
   "execution_count": 130,
   "metadata": {},
   "outputs": [],
   "source": [
    "# train데이터에서 정답 컬럼\n",
    "y_train = train[\"Reached.on.Time_Y.N\"]\n",
    "# train데이터에서 정답 컬럼을 삭제한 후 남은 모든 컬럼들\n",
    "X_train = train.drop(\"Reached.on.Time_Y.N\", axis = 1)\n",
    "# 맨 처음에 받았던 test.csv\n",
    "X_test = test"
   ]
  },
  {
   "cell_type": "code",
   "execution_count": 131,
   "metadata": {},
   "outputs": [
    {
     "name": "stdout",
     "output_type": "stream",
     "text": [
      "(6999, 8)\n",
      "(4000, 8)\n",
      "(6999,)\n"
     ]
    }
   ],
   "source": [
    "print(X_train.shape)\n",
    "print(X_test.shape)\n",
    "print(y_train.shape)"
   ]
  },
  {
   "cell_type": "code",
   "execution_count": 132,
   "metadata": {},
   "outputs": [],
   "source": [
    "# 원 핫 인코딩\n",
    "X_train = pd.get_dummies(X_train)\n",
    "X_test = pd.get_dummies(X_test)"
   ]
  },
  {
   "cell_type": "code",
   "execution_count": 133,
   "metadata": {},
   "outputs": [
    {
     "name": "stdout",
     "output_type": "stream",
     "text": [
      "(4000, 15)\n",
      "(6999, 18)\n"
     ]
    }
   ],
   "source": [
    "print(X_test.shape)\n",
    "print(X_train.shape)"
   ]
  },
  {
   "cell_type": "code",
   "execution_count": 134,
   "metadata": {},
   "outputs": [
    {
     "data": {
      "text/plain": [
       "Index(['Customer_care_calls', 'Customer_rating', 'Cost_of_the_Product',\n",
       "       'Prior_purchases', 'Discount_offered', 'Warehouse_block _A',\n",
       "       'Warehouse_block _B', 'Warehouse_block _C', 'Warehouse_block _D',\n",
       "       'Warehouse_block _F', 'Mode_of_Shipment_ Flight',\n",
       "       'Mode_of_Shipment_ Road', 'Mode_of_Shipment_ Ship',\n",
       "       'Mode_of_Shipment_Other', 'Product_importance_Other',\n",
       "       'Product_importance_high', 'Product_importance_low',\n",
       "       'Product_importance_medium'],\n",
       "      dtype='object')"
      ]
     },
     "execution_count": 134,
     "metadata": {},
     "output_type": "execute_result"
    }
   ],
   "source": [
    "X_train.columns"
   ]
  },
  {
   "cell_type": "code",
   "execution_count": 135,
   "metadata": {},
   "outputs": [
    {
     "data": {
      "text/plain": [
       "Index(['Customer_care_calls', 'Customer_rating', 'Cost_of_the_Product',\n",
       "       'Prior_purchases', 'Discount_offered', 'Warehouse_block _A',\n",
       "       'Warehouse_block _B', 'Warehouse_block _C', 'Warehouse_block _D',\n",
       "       'Warehouse_block _F', 'Mode_of_Shipment_ Flight',\n",
       "       'Mode_of_Shipment_ Road', 'Mode_of_Shipment_ Ship',\n",
       "       'Mode_of_Shipment_Other', 'Product_importance_Other'],\n",
       "      dtype='object')"
      ]
     },
     "execution_count": 135,
     "metadata": {},
     "output_type": "execute_result"
    }
   ],
   "source": [
    "X_test.columns"
   ]
  },
  {
   "cell_type": "code",
   "execution_count": 136,
   "metadata": {},
   "outputs": [
    {
     "data": {
      "text/plain": [
       "{'Product_importance_high',\n",
       " 'Product_importance_low',\n",
       " 'Product_importance_medium'}"
      ]
     },
     "execution_count": 136,
     "metadata": {},
     "output_type": "execute_result"
    }
   ],
   "source": [
    "set(X_train.columns) -set(X_test.columns)"
   ]
  },
  {
   "cell_type": "code",
   "execution_count": 137,
   "metadata": {
    "scrolled": false
   },
   "outputs": [
    {
     "data": {
      "text/plain": [
       "set()"
      ]
     },
     "execution_count": 137,
     "metadata": {},
     "output_type": "execute_result"
    }
   ],
   "source": [
    "set(X_test.columns) -set(X_train.columns)"
   ]
  },
  {
   "cell_type": "code",
   "execution_count": null,
   "metadata": {},
   "outputs": [],
   "source": []
  },
  {
   "cell_type": "code",
   "execution_count": null,
   "metadata": {},
   "outputs": [],
   "source": []
  },
  {
   "cell_type": "code",
   "execution_count": null,
   "metadata": {},
   "outputs": [],
   "source": []
  },
  {
   "cell_type": "code",
   "execution_count": 138,
   "metadata": {},
   "outputs": [
    {
     "data": {
      "text/plain": [
       "Index(['Customer_care_calls', 'Customer_rating', 'Cost_of_the_Product',\n",
       "       'Prior_purchases', 'Discount_offered', 'Warehouse_block _A',\n",
       "       'Warehouse_block _B', 'Warehouse_block _C', 'Warehouse_block _D',\n",
       "       'Warehouse_block _F', 'Mode_of_Shipment_ Flight',\n",
       "       'Mode_of_Shipment_ Road', 'Mode_of_Shipment_ Ship',\n",
       "       'Mode_of_Shipment_Other', 'Product_importance_Other',\n",
       "       'Product_importance_high', 'Product_importance_low',\n",
       "       'Product_importance_medium'],\n",
       "      dtype='object')"
      ]
     },
     "execution_count": 138,
     "metadata": {},
     "output_type": "execute_result"
    }
   ],
   "source": [
    "X_train.columns"
   ]
  },
  {
   "cell_type": "code",
   "execution_count": null,
   "metadata": {},
   "outputs": [],
   "source": []
  },
  {
   "cell_type": "code",
   "execution_count": 139,
   "metadata": {},
   "outputs": [],
   "source": [
    "knn_md = KNeighborsClassifier(n_neighbors=3)"
   ]
  },
  {
   "cell_type": "code",
   "execution_count": 140,
   "metadata": {},
   "outputs": [],
   "source": [
    "result_knn = cross_val_score(knn_md,\n",
    "                             X_train,\n",
    "                             y_train,\n",
    "                             cv = 5\n",
    "                            )"
   ]
  },
  {
   "cell_type": "code",
   "execution_count": 141,
   "metadata": {},
   "outputs": [
    {
     "data": {
      "text/plain": [
       "0.5746538343714898"
      ]
     },
     "execution_count": 141,
     "metadata": {},
     "output_type": "execute_result"
    }
   ],
   "source": [
    "result_knn.mean()"
   ]
  },
  {
   "cell_type": "code",
   "execution_count": 142,
   "metadata": {},
   "outputs": [],
   "source": [
    "scaler = StandardScaler()"
   ]
  },
  {
   "cell_type": "code",
   "execution_count": 143,
   "metadata": {},
   "outputs": [],
   "source": [
    "result_knn_train = scaler.fit_transform(X_train)"
   ]
  },
  {
   "cell_type": "code",
   "execution_count": 144,
   "metadata": {},
   "outputs": [
    {
     "data": {
      "text/plain": [
       "array([[-1.66924921, -0.47621263, -0.38049457, ..., -0.29861179,\n",
       "         1.04546755, -0.86159447],\n",
       "       [ 1.08662637, -0.01103298,  0.05161731, ..., -0.29861179,\n",
       "         1.04546755, -0.86159447],\n",
       "       [-0.75062402, -0.94139229,  0.07082228, ..., -0.29861179,\n",
       "         1.04546755, -0.86159447],\n",
       "       ...,\n",
       "       [-0.75062402, -0.94139229,  0.41171054, ..., -0.29861179,\n",
       "         1.04546755, -0.86159447],\n",
       "       [-0.75062402, -0.94139229,  0.08522601, ..., -0.29861179,\n",
       "        -0.95650984,  1.16063883],\n",
       "       [-0.75062402, -0.01103298,  0.2292633 , ...,  3.3488296 ,\n",
       "        -0.95650984, -0.86159447]])"
      ]
     },
     "execution_count": 144,
     "metadata": {},
     "output_type": "execute_result"
    }
   ],
   "source": [
    "result_knn_train"
   ]
  },
  {
   "cell_type": "code",
   "execution_count": 145,
   "metadata": {},
   "outputs": [
    {
     "data": {
      "text/plain": [
       "array([[-0.74271618, -0.78863713,  0.3774816 , ...,  0.75366607,\n",
       "        -0.24298471, -0.14285714],\n",
       "       [-0.74271618,  0.37726722, -0.4746283 , ...,  0.75366607,\n",
       "        -0.24298471, -0.14285714],\n",
       "       [-0.74271618,  0.765902  , -0.44992946, ..., -1.32684758,\n",
       "        -0.24298471, -0.14285714],\n",
       "       ...,\n",
       "       [-0.74271618, -0.01136757, -0.04239864, ..., -1.32684758,\n",
       "        -0.24298471, -0.14285714],\n",
       "       [ 1.94422811,  0.37726722,  0.26016212, ...,  0.75366607,\n",
       "        -0.24298471, -0.14285714],\n",
       "       [ 1.04858001, -0.78863713,  0.24163799, ...,  0.75366607,\n",
       "        -0.24298471,  7.        ]])"
      ]
     },
     "execution_count": 145,
     "metadata": {},
     "output_type": "execute_result"
    }
   ],
   "source": [
    "result_knn_test = scaler.fit_transform(X_test)\n",
    "result_knn_test"
   ]
  },
  {
   "cell_type": "code",
   "execution_count": 146,
   "metadata": {},
   "outputs": [
    {
     "data": {
      "text/plain": [
       "array([0.57571429, 0.56714286, 0.57071429, 0.55785714, 0.5768406 ])"
      ]
     },
     "execution_count": 146,
     "metadata": {},
     "output_type": "execute_result"
    }
   ],
   "source": [
    "result_knn_SS = cross_val_score(knn_md,\n",
    "                                result_knn_train, # 스케일링된 문제데이터\n",
    "                                y_train,           # 정답 데이터\n",
    "                                cv = 5\n",
    "                               )\n",
    "result_knn_SS"
   ]
  },
  {
   "cell_type": "code",
   "execution_count": 147,
   "metadata": {},
   "outputs": [
    {
     "data": {
      "text/plain": [
       "0.5696538343714899"
      ]
     },
     "execution_count": 147,
     "metadata": {},
     "output_type": "execute_result"
    }
   ],
   "source": [
    "result_knn_SS.mean()"
   ]
  },
  {
   "cell_type": "code",
   "execution_count": 148,
   "metadata": {},
   "outputs": [],
   "source": [
    "tree_md = DecisionTreeClassifier(max_depth=3)"
   ]
  },
  {
   "cell_type": "code",
   "execution_count": 149,
   "metadata": {},
   "outputs": [
    {
     "data": {
      "text/plain": [
       "array([0.61714286, 0.61785714, 0.61428571, 0.59214286, 0.62973553])"
      ]
     },
     "execution_count": 149,
     "metadata": {},
     "output_type": "execute_result"
    }
   ],
   "source": [
    "result_DT = cross_val_score(tree_md, # 위에서 만든 모델\n",
    "                            X_train, # 학습용 문제 데이터\n",
    "                            y_train, # 학습용 정답 데이터\n",
    "                            cv = 5 # cv = 나눌개수\n",
    "                           )\n",
    "result_DT"
   ]
  },
  {
   "cell_type": "code",
   "execution_count": 150,
   "metadata": {},
   "outputs": [
    {
     "data": {
      "text/plain": [
       "0.6142328193607678"
      ]
     },
     "execution_count": 150,
     "metadata": {},
     "output_type": "execute_result"
    }
   ],
   "source": [
    "result_DT.mean()"
   ]
  },
  {
   "cell_type": "code",
   "execution_count": 151,
   "metadata": {},
   "outputs": [
    {
     "data": {
      "text/plain": [
       "RandomForestClassifier(random_state=10)"
      ]
     },
     "execution_count": 151,
     "metadata": {},
     "output_type": "execute_result"
    }
   ],
   "source": [
    "forest_md = RandomForestClassifier(n_estimators=100,\n",
    "                                   random_state=10)\n",
    "forest_md\n"
   ]
  },
  {
   "cell_type": "code",
   "execution_count": 152,
   "metadata": {},
   "outputs": [
    {
     "data": {
      "text/plain": [
       "array([0.59142857, 0.585     , 0.57      , 0.58785714, 0.59185132])"
      ]
     },
     "execution_count": 152,
     "metadata": {},
     "output_type": "execute_result"
    }
   ],
   "source": [
    "result_RF = cross_val_score(forest_md, # 위에서 만든 모델\n",
    "                            X_train, # 학습용 문제 데이터\n",
    "                            y_train, # 학습용 정답 데이터\n",
    "                            cv = 5 # cv = 나눌개수\n",
    "                           )\n",
    "result_RF    "
   ]
  },
  {
   "cell_type": "code",
   "execution_count": 153,
   "metadata": {},
   "outputs": [
    {
     "data": {
      "text/plain": [
       "0.5852274073317677"
      ]
     },
     "execution_count": 153,
     "metadata": {},
     "output_type": "execute_result"
    }
   ],
   "source": [
    "result_RF.mean()"
   ]
  },
  {
   "cell_type": "code",
   "execution_count": 154,
   "metadata": {},
   "outputs": [
    {
     "data": {
      "text/html": [
       "<div>\n",
       "<style scoped>\n",
       "    .dataframe tbody tr th:only-of-type {\n",
       "        vertical-align: middle;\n",
       "    }\n",
       "\n",
       "    .dataframe tbody tr th {\n",
       "        vertical-align: top;\n",
       "    }\n",
       "\n",
       "    .dataframe thead th {\n",
       "        text-align: right;\n",
       "    }\n",
       "</style>\n",
       "<table border=\"1\" class=\"dataframe\">\n",
       "  <thead>\n",
       "    <tr style=\"text-align: right;\">\n",
       "      <th></th>\n",
       "      <th>ID</th>\n",
       "      <th>Reached.on.Time_Y.N</th>\n",
       "    </tr>\n",
       "  </thead>\n",
       "  <tbody>\n",
       "    <tr>\n",
       "      <th>0</th>\n",
       "      <td>7000</td>\n",
       "      <td>NaN</td>\n",
       "    </tr>\n",
       "    <tr>\n",
       "      <th>1</th>\n",
       "      <td>7001</td>\n",
       "      <td>NaN</td>\n",
       "    </tr>\n",
       "    <tr>\n",
       "      <th>2</th>\n",
       "      <td>7002</td>\n",
       "      <td>NaN</td>\n",
       "    </tr>\n",
       "    <tr>\n",
       "      <th>3</th>\n",
       "      <td>7003</td>\n",
       "      <td>NaN</td>\n",
       "    </tr>\n",
       "    <tr>\n",
       "      <th>4</th>\n",
       "      <td>7004</td>\n",
       "      <td>NaN</td>\n",
       "    </tr>\n",
       "    <tr>\n",
       "      <th>...</th>\n",
       "      <td>...</td>\n",
       "      <td>...</td>\n",
       "    </tr>\n",
       "    <tr>\n",
       "      <th>3995</th>\n",
       "      <td>10995</td>\n",
       "      <td>NaN</td>\n",
       "    </tr>\n",
       "    <tr>\n",
       "      <th>3996</th>\n",
       "      <td>10996</td>\n",
       "      <td>NaN</td>\n",
       "    </tr>\n",
       "    <tr>\n",
       "      <th>3997</th>\n",
       "      <td>10997</td>\n",
       "      <td>NaN</td>\n",
       "    </tr>\n",
       "    <tr>\n",
       "      <th>3998</th>\n",
       "      <td>10998</td>\n",
       "      <td>NaN</td>\n",
       "    </tr>\n",
       "    <tr>\n",
       "      <th>3999</th>\n",
       "      <td>10999</td>\n",
       "      <td>NaN</td>\n",
       "    </tr>\n",
       "  </tbody>\n",
       "</table>\n",
       "<p>4000 rows × 2 columns</p>\n",
       "</div>"
      ],
      "text/plain": [
       "         ID  Reached.on.Time_Y.N\n",
       "0      7000                  NaN\n",
       "1      7001                  NaN\n",
       "2      7002                  NaN\n",
       "3      7003                  NaN\n",
       "4      7004                  NaN\n",
       "...     ...                  ...\n",
       "3995  10995                  NaN\n",
       "3996  10996                  NaN\n",
       "3997  10997                  NaN\n",
       "3998  10998                  NaN\n",
       "3999  10999                  NaN\n",
       "\n",
       "[4000 rows x 2 columns]"
      ]
     },
     "execution_count": 154,
     "metadata": {},
     "output_type": "execute_result"
    }
   ],
   "source": [
    "result_submission = pd.read_csv(\"data/sampleSubmission.csv\")\n",
    "result_submission"
   ]
  },
  {
   "cell_type": "code",
   "execution_count": 155,
   "metadata": {
    "scrolled": true
   },
   "outputs": [
    {
     "data": {
      "text/plain": [
       "array([' Ship', ' Flight', 'Other', ' Road'], dtype=object)"
      ]
     },
     "execution_count": 155,
     "metadata": {},
     "output_type": "execute_result"
    }
   ],
   "source": [
    "test[\"Mode_of_Shipment\"].unique()"
   ]
  },
  {
   "cell_type": "code",
   "execution_count": 156,
   "metadata": {},
   "outputs": [
    {
     "data": {
      "text/plain": [
       "Index(['Customer_care_calls', 'Customer_rating', 'Cost_of_the_Product',\n",
       "       'Prior_purchases', 'Discount_offered', 'Warehouse_block _A',\n",
       "       'Warehouse_block _B', 'Warehouse_block _C', 'Warehouse_block _D',\n",
       "       'Warehouse_block _F', 'Mode_of_Shipment_ Flight',\n",
       "       'Mode_of_Shipment_ Road', 'Mode_of_Shipment_ Ship',\n",
       "       'Mode_of_Shipment_Other', 'Product_importance_Other',\n",
       "       'Product_importance_high', 'Product_importance_low',\n",
       "       'Product_importance_medium'],\n",
       "      dtype='object')"
      ]
     },
     "execution_count": 156,
     "metadata": {},
     "output_type": "execute_result"
    }
   ],
   "source": [
    "X_train.columns"
   ]
  },
  {
   "cell_type": "code",
   "execution_count": 157,
   "metadata": {},
   "outputs": [
    {
     "data": {
      "text/plain": [
       "Index(['Customer_care_calls', 'Customer_rating', 'Cost_of_the_Product',\n",
       "       'Prior_purchases', 'Discount_offered', 'Warehouse_block _A',\n",
       "       'Warehouse_block _B', 'Warehouse_block _C', 'Warehouse_block _D',\n",
       "       'Warehouse_block _F', 'Mode_of_Shipment_ Flight',\n",
       "       'Mode_of_Shipment_ Road', 'Mode_of_Shipment_ Ship',\n",
       "       'Mode_of_Shipment_Other', 'Product_importance_Other'],\n",
       "      dtype='object')"
      ]
     },
     "execution_count": 157,
     "metadata": {},
     "output_type": "execute_result"
    }
   ],
   "source": [
    "X_test.columns"
   ]
  },
  {
   "cell_type": "code",
   "execution_count": 158,
   "metadata": {},
   "outputs": [
    {
     "ename": "ValueError",
     "evalue": "Number of features of the model must match the input. Model n_features is 18 and input n_features is 15 ",
     "output_type": "error",
     "traceback": [
      "\u001b[1;31m---------------------------------------------------------------------------\u001b[0m",
      "\u001b[1;31mValueError\u001b[0m                                Traceback (most recent call last)",
      "\u001b[1;32m<ipython-input-158-f8a8ee160a0e>\u001b[0m in \u001b[0;36m<module>\u001b[1;34m\u001b[0m\n\u001b[0;32m      1\u001b[0m \u001b[0mtree_md\u001b[0m\u001b[1;33m.\u001b[0m\u001b[0mfit\u001b[0m\u001b[1;33m(\u001b[0m\u001b[0mX_train\u001b[0m\u001b[1;33m,\u001b[0m \u001b[0my_train\u001b[0m\u001b[1;33m)\u001b[0m\u001b[1;33m\u001b[0m\u001b[1;33m\u001b[0m\u001b[0m\n\u001b[1;32m----> 2\u001b[1;33m \u001b[0mpre\u001b[0m \u001b[1;33m=\u001b[0m \u001b[0mtree_md\u001b[0m\u001b[1;33m.\u001b[0m\u001b[0mpredict\u001b[0m\u001b[1;33m(\u001b[0m\u001b[0mX_test\u001b[0m\u001b[1;33m)\u001b[0m\u001b[1;33m\u001b[0m\u001b[1;33m\u001b[0m\u001b[0m\n\u001b[0m\u001b[0;32m      3\u001b[0m \u001b[0mpre\u001b[0m\u001b[1;33m\u001b[0m\u001b[1;33m\u001b[0m\u001b[0m\n",
      "\u001b[1;32m~\\anaconda3\\lib\\site-packages\\sklearn\\tree\\_classes.py\u001b[0m in \u001b[0;36mpredict\u001b[1;34m(self, X, check_input)\u001b[0m\n\u001b[0;32m    425\u001b[0m         \"\"\"\n\u001b[0;32m    426\u001b[0m         \u001b[0mcheck_is_fitted\u001b[0m\u001b[1;33m(\u001b[0m\u001b[0mself\u001b[0m\u001b[1;33m)\u001b[0m\u001b[1;33m\u001b[0m\u001b[1;33m\u001b[0m\u001b[0m\n\u001b[1;32m--> 427\u001b[1;33m         \u001b[0mX\u001b[0m \u001b[1;33m=\u001b[0m \u001b[0mself\u001b[0m\u001b[1;33m.\u001b[0m\u001b[0m_validate_X_predict\u001b[0m\u001b[1;33m(\u001b[0m\u001b[0mX\u001b[0m\u001b[1;33m,\u001b[0m \u001b[0mcheck_input\u001b[0m\u001b[1;33m)\u001b[0m\u001b[1;33m\u001b[0m\u001b[1;33m\u001b[0m\u001b[0m\n\u001b[0m\u001b[0;32m    428\u001b[0m         \u001b[0mproba\u001b[0m \u001b[1;33m=\u001b[0m \u001b[0mself\u001b[0m\u001b[1;33m.\u001b[0m\u001b[0mtree_\u001b[0m\u001b[1;33m.\u001b[0m\u001b[0mpredict\u001b[0m\u001b[1;33m(\u001b[0m\u001b[0mX\u001b[0m\u001b[1;33m)\u001b[0m\u001b[1;33m\u001b[0m\u001b[1;33m\u001b[0m\u001b[0m\n\u001b[0;32m    429\u001b[0m         \u001b[0mn_samples\u001b[0m \u001b[1;33m=\u001b[0m \u001b[0mX\u001b[0m\u001b[1;33m.\u001b[0m\u001b[0mshape\u001b[0m\u001b[1;33m[\u001b[0m\u001b[1;36m0\u001b[0m\u001b[1;33m]\u001b[0m\u001b[1;33m\u001b[0m\u001b[1;33m\u001b[0m\u001b[0m\n",
      "\u001b[1;32m~\\anaconda3\\lib\\site-packages\\sklearn\\tree\\_classes.py\u001b[0m in \u001b[0;36m_validate_X_predict\u001b[1;34m(self, X, check_input)\u001b[0m\n\u001b[0;32m    394\u001b[0m         \u001b[0mn_features\u001b[0m \u001b[1;33m=\u001b[0m \u001b[0mX\u001b[0m\u001b[1;33m.\u001b[0m\u001b[0mshape\u001b[0m\u001b[1;33m[\u001b[0m\u001b[1;36m1\u001b[0m\u001b[1;33m]\u001b[0m\u001b[1;33m\u001b[0m\u001b[1;33m\u001b[0m\u001b[0m\n\u001b[0;32m    395\u001b[0m         \u001b[1;32mif\u001b[0m \u001b[0mself\u001b[0m\u001b[1;33m.\u001b[0m\u001b[0mn_features_\u001b[0m \u001b[1;33m!=\u001b[0m \u001b[0mn_features\u001b[0m\u001b[1;33m:\u001b[0m\u001b[1;33m\u001b[0m\u001b[1;33m\u001b[0m\u001b[0m\n\u001b[1;32m--> 396\u001b[1;33m             raise ValueError(\"Number of features of the model must \"\n\u001b[0m\u001b[0;32m    397\u001b[0m                              \u001b[1;34m\"match the input. Model n_features is %s and \"\u001b[0m\u001b[1;33m\u001b[0m\u001b[1;33m\u001b[0m\u001b[0m\n\u001b[0;32m    398\u001b[0m                              \u001b[1;34m\"input n_features is %s \"\u001b[0m\u001b[1;33m\u001b[0m\u001b[1;33m\u001b[0m\u001b[0m\n",
      "\u001b[1;31mValueError\u001b[0m: Number of features of the model must match the input. Model n_features is 18 and input n_features is 15 "
     ]
    }
   ],
   "source": [
    "tree_md.fit(X_train, y_train) \n",
    "pre = tree_md.predict(X_test)   \n",
    "pre "
   ]
  },
  {
   "cell_type": "code",
   "execution_count": null,
   "metadata": {},
   "outputs": [],
   "source": [
    "result_submission[\"Reached.on.Time_Y.N\"] = pre"
   ]
  },
  {
   "cell_type": "code",
   "execution_count": null,
   "metadata": {},
   "outputs": [],
   "source": [
    "result_submission.to_csv(\"sampleSubmission_tree.csv\", index=False)"
   ]
  },
  {
   "cell_type": "code",
   "execution_count": null,
   "metadata": {},
   "outputs": [],
   "source": []
  }
 ],
 "metadata": {
  "kernelspec": {
   "display_name": "Python 3",
   "language": "python",
   "name": "python3"
  },
  "language_info": {
   "codemirror_mode": {
    "name": "ipython",
    "version": 3
   },
   "file_extension": ".py",
   "mimetype": "text/x-python",
   "name": "python",
   "nbconvert_exporter": "python",
   "pygments_lexer": "ipython3",
   "version": "3.8.5"
  },
  "toc": {
   "base_numbering": 1,
   "nav_menu": {},
   "number_sections": true,
   "sideBar": true,
   "skip_h1_title": false,
   "title_cell": "Table of Contents",
   "title_sidebar": "Contents",
   "toc_cell": false,
   "toc_position": {},
   "toc_section_display": true,
   "toc_window_display": false
  }
 },
 "nbformat": 4,
 "nbformat_minor": 4
}
